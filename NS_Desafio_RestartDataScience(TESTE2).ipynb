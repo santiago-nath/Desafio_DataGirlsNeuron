{
  "nbformat": 4,
  "nbformat_minor": 0,
  "metadata": {
    "colab": {
      "name": "NS_Desafio_RestartDataScience(TESTE2).ipynb",
      "provenance": [],
      "collapsed_sections": []
    },
    "kernelspec": {
      "name": "python3",
      "display_name": "Python 3"
    },
    "language_info": {
      "name": "python"
    }
  },
  "cells": [
    {
      "cell_type": "code",
      "metadata": {
        "id": "kub8_Ga4qxWr"
      },
      "source": [
        "# Desafio (RE)START DATA SCIENCE | 30/11 a 04/12/21 \n",
        "# Organizado por Data Girls Neuron\n",
        "\n",
        "# Participante: Nathália Santiago | Dezembro/2021"
      ],
      "execution_count": null,
      "outputs": []
    },
    {
      "cell_type": "code",
      "metadata": {
        "id": "hEmdfX-HqnKM"
      },
      "source": [
        "#About this Dataset: Fashion Clothing Product Catalog from Myntra.com\n",
        "#Myntra is a major Indian fashion e-commerce company headquartered in Bengaluru, Karnataka, India.] \n",
        "#The company was founded in 2007 to sell personalized gift items. In May 2014, Myntra.com was acquired by Flipkart.\n",
        "\n",
        "#Acknowledgements\n",
        "#Myntra.com and CrawlFeeds.com\n",
        "#Data Collection Method: Scraping and PreProcessing\n",
        "\n",
        "#LINK ORIGINAL: https://www.kaggle.com/shivamb/fashion-clothing-products-catalog"
      ],
      "execution_count": null,
      "outputs": []
    },
    {
      "cell_type": "code",
      "metadata": {
        "id": "E_Fqi6jvayh2"
      },
      "source": [
        "#importar bibliotecas\n",
        "%matplotlib inline\n",
        "\n",
        "import pandas as pd\n",
        "import numpy as np\n",
        "import matplotlib.pyplot as plt\n",
        "import seaborn as sns\n",
        "import sklearn # modelos\n",
        "import plotly.express as px"
      ],
      "execution_count": null,
      "outputs": []
    },
    {
      "cell_type": "code",
      "metadata": {
        "id": "be_sUMYsMSj5"
      },
      "source": [
        "#importar dataframe\n",
        "df = pd.read_csv('/content/drive/MyDrive/Colab Notebooks/myntra_products_catalog.csv')"
      ],
      "execution_count": null,
      "outputs": []
    },
    {
      "cell_type": "code",
      "metadata": {
        "colab": {
          "base_uri": "https://localhost:8080/"
        },
        "id": "KZeuPlOkMbrf",
        "outputId": "f49c0153-0eb6-4881-9744-037b42875534"
      },
      "source": [
        "#verificar linhas x colunas\n",
        "df.shape"
      ],
      "execution_count": null,
      "outputs": [
        {
          "output_type": "execute_result",
          "data": {
            "text/plain": [
              "(12491, 8)"
            ]
          },
          "metadata": {},
          "execution_count": 59
        }
      ]
    },
    {
      "cell_type": "code",
      "metadata": {
        "colab": {
          "base_uri": "https://localhost:8080/"
        },
        "id": "qiRiONVsnQOM",
        "outputId": "c47a48cf-42c7-490d-8ea6-4ff2fc35e7cf"
      },
      "source": [
        "#verficar nome das colunas\n",
        "df.columns"
      ],
      "execution_count": null,
      "outputs": [
        {
          "output_type": "execute_result",
          "data": {
            "text/plain": [
              "Index(['ProductID', 'ProductName', 'ProductBrand', 'Gender', 'Price (INR)',\n",
              "       'NumImages', 'Description', 'PrimaryColor'],\n",
              "      dtype='object')"
            ]
          },
          "metadata": {},
          "execution_count": 60
        }
      ]
    },
    {
      "cell_type": "code",
      "metadata": {
        "colab": {
          "base_uri": "https://localhost:8080/"
        },
        "id": "MuTeBNyJMiMA",
        "outputId": "78204aed-f923-4eee-9aa9-eec42ff8aea6"
      },
      "source": [
        "#informações do dataframe: colunas x tipos de dados\n",
        "df.info()"
      ],
      "execution_count": null,
      "outputs": [
        {
          "output_type": "stream",
          "name": "stdout",
          "text": [
            "<class 'pandas.core.frame.DataFrame'>\n",
            "RangeIndex: 12491 entries, 0 to 12490\n",
            "Data columns (total 8 columns):\n",
            " #   Column        Non-Null Count  Dtype \n",
            "---  ------        --------------  ----- \n",
            " 0   ProductID     12491 non-null  int64 \n",
            " 1   ProductName   12491 non-null  object\n",
            " 2   ProductBrand  12491 non-null  object\n",
            " 3   Gender        12491 non-null  object\n",
            " 4   Price (INR)   12491 non-null  int64 \n",
            " 5   NumImages     12491 non-null  int64 \n",
            " 6   Description   12491 non-null  object\n",
            " 7   PrimaryColor  11597 non-null  object\n",
            "dtypes: int64(3), object(5)\n",
            "memory usage: 780.8+ KB\n"
          ]
        }
      ]
    },
    {
      "cell_type": "code",
      "metadata": {
        "colab": {
          "base_uri": "https://localhost:8080/",
          "height": 300
        },
        "id": "ZQH23apOM3k-",
        "outputId": "7ec59a73-317b-41cb-ab95-38a6ebc3d1cf"
      },
      "source": [
        "#descrições gerais do dataframe\n",
        "df.describe()"
      ],
      "execution_count": null,
      "outputs": [
        {
          "output_type": "execute_result",
          "data": {
            "text/html": [
              "<div>\n",
              "<style scoped>\n",
              "    .dataframe tbody tr th:only-of-type {\n",
              "        vertical-align: middle;\n",
              "    }\n",
              "\n",
              "    .dataframe tbody tr th {\n",
              "        vertical-align: top;\n",
              "    }\n",
              "\n",
              "    .dataframe thead th {\n",
              "        text-align: right;\n",
              "    }\n",
              "</style>\n",
              "<table border=\"1\" class=\"dataframe\">\n",
              "  <thead>\n",
              "    <tr style=\"text-align: right;\">\n",
              "      <th></th>\n",
              "      <th>ProductID</th>\n",
              "      <th>Price (INR)</th>\n",
              "      <th>NumImages</th>\n",
              "    </tr>\n",
              "  </thead>\n",
              "  <tbody>\n",
              "    <tr>\n",
              "      <th>count</th>\n",
              "      <td>1.249100e+04</td>\n",
              "      <td>12491.000000</td>\n",
              "      <td>12491.000000</td>\n",
              "    </tr>\n",
              "    <tr>\n",
              "      <th>mean</th>\n",
              "      <td>9.917160e+06</td>\n",
              "      <td>1452.660956</td>\n",
              "      <td>4.913698</td>\n",
              "    </tr>\n",
              "    <tr>\n",
              "      <th>std</th>\n",
              "      <td>1.438006e+06</td>\n",
              "      <td>2118.503976</td>\n",
              "      <td>1.092333</td>\n",
              "    </tr>\n",
              "    <tr>\n",
              "      <th>min</th>\n",
              "      <td>1.012060e+05</td>\n",
              "      <td>90.000000</td>\n",
              "      <td>1.000000</td>\n",
              "    </tr>\n",
              "    <tr>\n",
              "      <th>25%</th>\n",
              "      <td>1.006215e+07</td>\n",
              "      <td>649.000000</td>\n",
              "      <td>5.000000</td>\n",
              "    </tr>\n",
              "    <tr>\n",
              "      <th>50%</th>\n",
              "      <td>1.015463e+07</td>\n",
              "      <td>920.000000</td>\n",
              "      <td>5.000000</td>\n",
              "    </tr>\n",
              "    <tr>\n",
              "      <th>75%</th>\n",
              "      <td>1.021565e+07</td>\n",
              "      <td>1499.000000</td>\n",
              "      <td>5.000000</td>\n",
              "    </tr>\n",
              "    <tr>\n",
              "      <th>max</th>\n",
              "      <td>1.027514e+07</td>\n",
              "      <td>63090.000000</td>\n",
              "      <td>10.000000</td>\n",
              "    </tr>\n",
              "  </tbody>\n",
              "</table>\n",
              "</div>"
            ],
            "text/plain": [
              "          ProductID   Price (INR)     NumImages\n",
              "count  1.249100e+04  12491.000000  12491.000000\n",
              "mean   9.917160e+06   1452.660956      4.913698\n",
              "std    1.438006e+06   2118.503976      1.092333\n",
              "min    1.012060e+05     90.000000      1.000000\n",
              "25%    1.006215e+07    649.000000      5.000000\n",
              "50%    1.015463e+07    920.000000      5.000000\n",
              "75%    1.021565e+07   1499.000000      5.000000\n",
              "max    1.027514e+07  63090.000000     10.000000"
            ]
          },
          "metadata": {},
          "execution_count": 62
        }
      ]
    },
    {
      "cell_type": "code",
      "metadata": {
        "colab": {
          "base_uri": "https://localhost:8080/",
          "height": 206
        },
        "id": "XXZ9JfhoNKoq",
        "outputId": "45deb539-b8fe-4413-e212-3280735c78c9"
      },
      "source": [
        "#visualização das primeiras linhas do dataframe\n",
        "df.head()"
      ],
      "execution_count": null,
      "outputs": [
        {
          "output_type": "execute_result",
          "data": {
            "text/html": [
              "<div>\n",
              "<style scoped>\n",
              "    .dataframe tbody tr th:only-of-type {\n",
              "        vertical-align: middle;\n",
              "    }\n",
              "\n",
              "    .dataframe tbody tr th {\n",
              "        vertical-align: top;\n",
              "    }\n",
              "\n",
              "    .dataframe thead th {\n",
              "        text-align: right;\n",
              "    }\n",
              "</style>\n",
              "<table border=\"1\" class=\"dataframe\">\n",
              "  <thead>\n",
              "    <tr style=\"text-align: right;\">\n",
              "      <th></th>\n",
              "      <th>ProductID</th>\n",
              "      <th>ProductName</th>\n",
              "      <th>ProductBrand</th>\n",
              "      <th>Gender</th>\n",
              "      <th>Price (INR)</th>\n",
              "      <th>NumImages</th>\n",
              "      <th>Description</th>\n",
              "      <th>PrimaryColor</th>\n",
              "    </tr>\n",
              "  </thead>\n",
              "  <tbody>\n",
              "    <tr>\n",
              "      <th>0</th>\n",
              "      <td>10017413</td>\n",
              "      <td>DKNY Unisex Black &amp; Grey Printed Medium Trolle...</td>\n",
              "      <td>DKNY</td>\n",
              "      <td>Unisex</td>\n",
              "      <td>11745</td>\n",
              "      <td>7</td>\n",
              "      <td>Black and grey printed medium trolley bag, sec...</td>\n",
              "      <td>Black</td>\n",
              "    </tr>\n",
              "    <tr>\n",
              "      <th>1</th>\n",
              "      <td>10016283</td>\n",
              "      <td>EthnoVogue Women Beige &amp; Grey Made to Measure ...</td>\n",
              "      <td>EthnoVogue</td>\n",
              "      <td>Women</td>\n",
              "      <td>5810</td>\n",
              "      <td>7</td>\n",
              "      <td>Beige &amp; Grey made to measure kurta with churid...</td>\n",
              "      <td>Beige</td>\n",
              "    </tr>\n",
              "    <tr>\n",
              "      <th>2</th>\n",
              "      <td>10009781</td>\n",
              "      <td>SPYKAR Women Pink Alexa Super Skinny Fit High-...</td>\n",
              "      <td>SPYKAR</td>\n",
              "      <td>Women</td>\n",
              "      <td>899</td>\n",
              "      <td>7</td>\n",
              "      <td>Pink coloured wash 5-pocket high-rise cropped ...</td>\n",
              "      <td>Pink</td>\n",
              "    </tr>\n",
              "    <tr>\n",
              "      <th>3</th>\n",
              "      <td>10015921</td>\n",
              "      <td>Raymond Men Blue Self-Design Single-Breasted B...</td>\n",
              "      <td>Raymond</td>\n",
              "      <td>Men</td>\n",
              "      <td>5599</td>\n",
              "      <td>5</td>\n",
              "      <td>Blue self-design bandhgala suitBlue self-desig...</td>\n",
              "      <td>Blue</td>\n",
              "    </tr>\n",
              "    <tr>\n",
              "      <th>4</th>\n",
              "      <td>10017833</td>\n",
              "      <td>Parx Men Brown &amp; Off-White Slim Fit Printed Ca...</td>\n",
              "      <td>Parx</td>\n",
              "      <td>Men</td>\n",
              "      <td>759</td>\n",
              "      <td>5</td>\n",
              "      <td>Brown and off-white printed casual shirt, has ...</td>\n",
              "      <td>White</td>\n",
              "    </tr>\n",
              "  </tbody>\n",
              "</table>\n",
              "</div>"
            ],
            "text/plain": [
              "   ProductID  ... PrimaryColor\n",
              "0   10017413  ...        Black\n",
              "1   10016283  ...        Beige\n",
              "2   10009781  ...         Pink\n",
              "3   10015921  ...         Blue\n",
              "4   10017833  ...        White\n",
              "\n",
              "[5 rows x 8 columns]"
            ]
          },
          "metadata": {},
          "execution_count": 63
        }
      ]
    },
    {
      "cell_type": "code",
      "metadata": {
        "colab": {
          "base_uri": "https://localhost:8080/"
        },
        "id": "7C72c7pjRecL",
        "outputId": "45f1957b-c37b-4175-b870-25ae4deb0d1b"
      },
      "source": [
        "#verificando quais colunas possuem valores nulos\n",
        "df.isnull().sum()"
      ],
      "execution_count": null,
      "outputs": [
        {
          "output_type": "execute_result",
          "data": {
            "text/plain": [
              "ProductID         0\n",
              "ProductName       0\n",
              "ProductBrand      0\n",
              "Gender            0\n",
              "Price (INR)       0\n",
              "NumImages         0\n",
              "Description       0\n",
              "PrimaryColor    894\n",
              "dtype: int64"
            ]
          },
          "metadata": {},
          "execution_count": 64
        }
      ]
    },
    {
      "cell_type": "code",
      "metadata": {
        "colab": {
          "base_uri": "https://localhost:8080/"
        },
        "id": "Y4ohsjERSB25",
        "outputId": "570a3d97-dfaf-4cf0-d137-56773cc40303"
      },
      "source": [
        "#listando apenas a coluna com valores nulos\n",
        "df['PrimaryColor'].isnull()"
      ],
      "execution_count": null,
      "outputs": [
        {
          "output_type": "execute_result",
          "data": {
            "text/plain": [
              "0        False\n",
              "1        False\n",
              "2        False\n",
              "3        False\n",
              "4        False\n",
              "         ...  \n",
              "12486    False\n",
              "12487    False\n",
              "12488    False\n",
              "12489     True\n",
              "12490    False\n",
              "Name: PrimaryColor, Length: 12491, dtype: bool"
            ]
          },
          "metadata": {},
          "execution_count": 65
        }
      ]
    },
    {
      "cell_type": "code",
      "metadata": {
        "id": "OdGX05Crhqzo"
      },
      "source": [
        "#substituição dos valores nulos da coluna 'PrimaryColor' por 'Não Especificado'\n",
        "df['PrimaryColor'].fillna(value = \"Not Specified\", inplace=True)"
      ],
      "execution_count": null,
      "outputs": []
    },
    {
      "cell_type": "code",
      "metadata": {
        "colab": {
          "base_uri": "https://localhost:8080/"
        },
        "id": "mdRlGYO7nVje",
        "outputId": "0f56ff7e-413a-4197-abdb-8d18a9517036"
      },
      "source": [
        "#verificando se valores foram preenchidos e se ainda possui nulos a tratar no dataframe\n",
        "df.isnull().sum()"
      ],
      "execution_count": null,
      "outputs": [
        {
          "output_type": "execute_result",
          "data": {
            "text/plain": [
              "ProductID       0\n",
              "ProductName     0\n",
              "ProductBrand    0\n",
              "Gender          0\n",
              "Price (INR)     0\n",
              "NumImages       0\n",
              "Description     0\n",
              "PrimaryColor    0\n",
              "dtype: int64"
            ]
          },
          "metadata": {},
          "execution_count": 67
        }
      ]
    },
    {
      "cell_type": "code",
      "metadata": {
        "id": "0gLhA_Mt4mLy"
      },
      "source": [
        "#Verificar a quantidade de categorias dentro de cada coluna"
      ],
      "execution_count": null,
      "outputs": []
    },
    {
      "cell_type": "code",
      "metadata": {
        "colab": {
          "base_uri": "https://localhost:8080/"
        },
        "id": "6W9U9sHY34b7",
        "outputId": "da0780be-0306-44aa-d713-c37722771525"
      },
      "source": [
        "print(df['ProductName'].nunique())\n",
        "print(df['ProductName'].unique())"
      ],
      "execution_count": null,
      "outputs": [
        {
          "output_type": "stream",
          "name": "stdout",
          "text": [
            "10761\n",
            "['DKNY Unisex Black & Grey Printed Medium Trolley Bag'\n",
            " 'EthnoVogue Women Beige & Grey Made to Measure Custom Made Kurta Set with Jacket'\n",
            " 'SPYKAR Women Pink Alexa Super Skinny Fit High-Rise Clean Look Stretchable Cropped Jeans'\n",
            " ... '612 league Girls Navy Blue & White Printed Regular Fit Denim Shorts'\n",
            " 'Bvlgari Men Aqva Pour Homme Marine Eau de Toilette 150ml'\n",
            " 'Pepe Jeans Men Black & Grey Striped Polo Collar T-shirt']\n"
          ]
        }
      ]
    },
    {
      "cell_type": "code",
      "metadata": {
        "colab": {
          "base_uri": "https://localhost:8080/"
        },
        "id": "GQryfsuU3NKi",
        "outputId": "7457b463-8130-405d-a788-603219506014"
      },
      "source": [
        "print(df['ProductBrand'].nunique())\n",
        "print(df['ProductBrand'].unique())"
      ],
      "execution_count": null,
      "outputs": [
        {
          "output_type": "stream",
          "name": "stdout",
          "text": [
            "677\n",
            "['DKNY' 'EthnoVogue' 'SPYKAR' 'Raymond' 'Parx' 'SHOWOFF' 'Kenneth Cole'\n",
            " 'Police' 'Vishudh' 'Being Human' 'Homesake' 'SEJ by Nisha Gupta'\n",
            " 'YAK YAK' 'PARFAIT' 'Michael Kors' 'HIGHLANDER' 'JEWEL JUNCTION' 'ID'\n",
            " 'Story@home' 'Gini and Jony' 'Sera' 'AccessHer' 'Alcis'\n",
            " 'Difference of Opinion' 'Tokyo Talkies' 'ANNA SUI' 'her by invictus'\n",
            " 'Soie' 'Lara Karen' 'Urban Dog' 'ahilya' 'VASTRAMAY' 'Campus Sutra'\n",
            " 'FIDO DIDO' 'MIAH Decor' 'BuckleUp' 'Peter England' 'AIGNER' 'Lady Lyka'\n",
            " 'Park Avenue' 'Roadster' 'U.S. Polo Assn. Denim Co.' 'Sweet Dreams'\n",
            " 'Kazo' 'Stylo Bug' 'Bvlgari' 'Qraa Men' 'GAS' 'WITH' 'ZUSH'\n",
            " 'JBN Creation' 'U.S. Polo Assn. Kids' 'DressBerry' 'ColorPlus' 'Lakme'\n",
            " 'Allen Solly Woman' 'Palm Tree' 'Arrow' 'DAVID BECKHAM' 'MANGO' 'Carrera'\n",
            " 'ROMEE' 'TAYHAA' 'Ishin' 'Shoe Couture' 'HARBORNBAY' 'Keds' 'Rozia'\n",
            " 'Aj DEZInES' 'Monte Carlo' 'even' 'ether' 'Crimsoune Club'\n",
            " 'Russell Athletic' 'MIMOSA' 'Puma' 'Blackberrys' 'Playdate' 'Rocia'\n",
            " 'Marvel by Wear Your Mind' 'Annabelle by Pantaloons' 'berrytree'\n",
            " 'SIMON CARTER LONDON' 'Beli' 'Nautica' 'Jn Joy' 'THE SILHOUETTE STORE'\n",
            " 'Xpose' 'MBE' 'Mast & Harbour' 'JC Collection' 'GUESS' 'NEUDIS'\n",
            " 'StyleStone' 'SASSAFRAS' 'United Colors of Benetton' 'VLCC'\n",
            " 'Kook N Keech Disney' 'Bubblegummers' 'Hoopers' 'Peter England Casuals'\n",
            " 'Honey by Pantaloons' 'Pink Cow' 'DOROTHY PERKINS' 'Crew STREET'\n",
            " 'Bhama Couture' 'Zippo' 'Daffodils' 'aramis' 'C9 AIRWEAR' 'Oxolloxo'\n",
            " 'Soumya' 'Crocs' 'Carlton London' 'HERE&NOW' 'French Connection'\n",
            " 'Next Look' 'XYXX' 'shaze' 'Bitiya by Bhama' 'Geox' 'Tulsattva'\n",
            " 'ExclusiveLane' 'SHISEIDO' 'MSC' 'Anekaant' 'Innisfree' 'Wintage'\n",
            " 'LOCOMOTIVE' 'Bene Kleed' 'Varanga' 'HRX by Hrithik Roshan' 'Avira Home'\n",
            " 'Force 10' 'maxima' 'Aapno Rajasthan' 'Fortune' 'Moedbuille' 'Blue Saint'\n",
            " 'MASPAR' 'W' 'SCORPIUS' 'Ecko Unltd' 'BERING' 'Healers' 'Kvsfab' 'MOVADO'\n",
            " 'CINOCCI' 'Mitera' 'Harvard' 'Ojjasvi' 'Wild stone' 'AVANT-GARDE PARIS'\n",
            " 'Gliders' 'U&F' 'Abhishti' 'Dreamscape' 'OddCroft' 'Flying Machine'\n",
            " 'IT luggage' 'Nike' 'One Friday' 'Indibelle' 'Dynamocks' 'Arrow New York'\n",
            " 'Titan' 'Zoop' 'Levis' 'IVOC' 'Athena' 'Elizabeth Arden' 'Arrow Sport'\n",
            " 'Red Tape' 'PANAHI' 'Veni Vidi Vici' 'CODE by Lifestyle'\n",
            " 'Fame Forever by Lifestyle' 'Sonata' 'Yuris' 'Sherrif Shoes' 'TIMESMITH'\n",
            " 'Cherry Crumble' 'Senorita' 'CHUTPUT' 'Slumber Jill' 'Metro'\n",
            " 'Marks & Spencer' 'Fastrack' 'DODO & MOA' 'FabSeasons' 'Shaily'\n",
            " 'Mirchi Fashion' 'Sergio Tacchini' 'Janasya' 'Bossini' 'Rajnandini'\n",
            " 'Call It Spring' 'Coolers' 'Chhabra 555' 'LA LOFT' 'Cottinfab'\n",
            " 'Calvin Klein' 'Liberty' 'IMYOUNG' 'CLAY CRAFT' 'Crunchy Fashion'\n",
            " 'Respiro' 'trueBrowns' 'Trend Arrest' 'Besiva' 'INCOLOR' 'Kraus Jeans'\n",
            " 'RICHARD PARKER by Pantaloons' 'Mali Fionna' 'Kryptic' 'San Frissco'\n",
            " 'You Got Plan B' 'The Kaftan Company' 'Simply' 'Infuzze' 'Sir Corbett'\n",
            " 'HOME DECOR INDIA' 'Vero Moda' 'Be Indi' 'Da Intimo' 'Camey' 'Solemio'\n",
            " 'MsFQ' 'Forever New' 'Killer' 'AURELIA' 'Miss Chase' 'Saadgi'\n",
            " 'Lee Cooper' 'Foolzy' 'ZHEIA' 'Friskers' 'UCLA' 'Genie' 'Femmora'\n",
            " 'Fos Lighting' 'FirstClap' 'Clovia' 'Style Quotient' 'Rajasthan Decor'\n",
            " 'SG YUVRAJ' 'URBAN TRIBE' 'CASIO' 'VRINDA' 'Lady Stark' 'Newton'\n",
            " 'Bodycare' 'Alvaro Castagnino' 'Organic Harvest' 'Campus'\n",
            " 'Free Authority' 'Dennmarks' 'Voylla' 'Wish Karo' 'MBOSS' 'Mochi' 'ELLE'\n",
            " 'OBSESSIONS' 'Living Essence' 'GIORDANO' 'Hi RELs' 'DDecor' 'INVICTUS'\n",
            " 'Evoke 1899' 'Newport' 'Schwarzkopf PROFESSIONAL' 'Louis Philippe'\n",
            " 'PANIT' 'SELECTED' 'SOJANYA' 'Sangria' 'Divine Casa' 'Unravel India'\n",
            " 'Steenbok' 'Belle Fille' 'Kittens' 'Slub' 'Blissta' 'Alena' 'SWHF'\n",
            " 'JUMP USA' 'St. Ives' 'FabAlley' 'Nucleus' 'Home Sparkle' 'shiloh'\n",
            " 'Allen Solly' 'KLEIO' 'Maniac' 'Globus' 'Fourwalls'\n",
            " 'AKKRITI BY PANTALOONS' 'Genius' 'Bohemia Crystal' 'EQUINOX'\n",
            " 'Zink London' 'YASH GALLERY' 'Sparx' 'Van Heusen' 'YK' 'Blue Giraffe'\n",
            " 'Silvermerc Designs' 'Black coffee' 'Jacques Lemans' 'ZIYAA'\n",
            " 'SKULT by Shahid Kapoor' 'PERFKT-U' 'Zeal' 'Cortina' 'plusS' 'V Dot'\n",
            " 'Shoetopia' 'Eavan' 'Masch Sports' 'Devis' 'Namyaa' 'ONLY' 'Eske' 'MIWAY'\n",
            " 'Smiley World' 'Maserati' 'Archies' 'Marie Claire' 'Chumbak' 'Aber & Q'\n",
            " 'People' 'GMF' 'ABELINO' 'COVER STORY' 'Karmic Vision' 'Bonjour'\n",
            " 'Deco Window' 'ADIVA' 'Latin Quarters' 'Moda Rapido' 'Indian Terrain'\n",
            " 'RARE' 'SOLES' 'Lavie' 'Truffle Collection' 'GAP' 'KARATCART' 'Priyaasi'\n",
            " 'Mine4Nine' 'CHROME & CORAL' 'FAUSTO' 'ADORN by Nikita Ladiwala'\n",
            " 'Hancock' 'Calvin Klein Jeans' 'Secret Temptation' 'HEATWAVE' 'BownBee'\n",
            " 'Baggit' 'Force NXT' 'URBANE' 'Canary London' 'Jack & Jones' 'fancy mart'\n",
            " 'ADORENITE' 'Hypernation' 'Pantaloons Junior' 'Minions by Kook N Keech'\n",
            " 'Caprese' 'SUITLTD' 'Harpa' 'Taavi' 'Geroo Jaipur' 'Bamboo Tree Jewels'\n",
            " 'Kappa' 'Sher Singh' 'Morpheme Remedies' 'KiddoPanti' 'ANTS'\n",
            " 'Allen Cooper' 'Pure Home and Living' 'ComicSense.xyz'\n",
            " 'Louis Philippe Sport' 'Monrow' 'breya' 'RANGMANCH BY PANTALOONS'\n",
            " 'Wonder Woman' 'Melange by Lifestyle' 'CERIZ' 'Eego Italy' 'Knotyy' 'mf'\n",
            " 'Chemistry' 'TREEMODA' 'Chambor' 'OOMPH' 'KazarMax' 'Chkokko' 'Duke'\n",
            " 'Club York' 'BBLUNT' 'Jewels Galaxy' 'Molly & Michel' 'The Beauty Co.'\n",
            " 'Libas' 'Pipa Bella' 'FOSH' 'Freehand' 'Ed Hardy' 'Aditi Wasan' 'Akiva'\n",
            " 'Franco Leone' 'Mufti' '7Rainbow' 'beevee' 'Yellow Jeans' 'Soludos'\n",
            " 'Tresmode' 'bigbanana' 'Rex Straut Jeans' 'hummel' 'E2O'\n",
            " 'CAVALLO by Linen Club' 'Tommy Hilfiger' 'PRESTO' 'Tistabene' 'boAt'\n",
            " 'DENNISON' 'U.S. Polo Assn.' \"Kurti's by Menka\" 'Saree mall'\n",
            " 'Forca by Lifestyle' 'VALIOSAA' 'Ginger by Lifestyle' 'Iti'\n",
            " 'Stylee LIFESTYLE' 'JAINISH' 'Cation' 'WROGN' 'GODS'\n",
            " 'Disney by Wear Your Mind' 'Calvin Klein Underwear' 'Ayesha' 'Woodland'\n",
            " 'INDYA' 'meriggiare' 'BIANCA' 'Kook N Keech Marvel' 'Just Wow'\n",
            " 'Golden Peacock' 'Rosaline' 'Wildcraft' 'Rubans' 'Zaveri Pearls'\n",
            " 'CUTECUMBER' 'HAMMER' 'PrettyCat' 'Johnny Bravo by Kook N Keech' 'Zivame'\n",
            " 'Kook N Keech Garfield' 'Tissu' 'Turkish Bath' 'Nature Casuals'\n",
            " 'Unshaven' 'GIO COLLECTION' 'YWC' 'Kraft Cellar' 'Saral Home'\n",
            " 'justpeachy' 'GERUA' 'Skechers' 'Studio Voylla' 'Bruno Manetti'\n",
            " 'Invincible' 'Global Desi' 'yelloe' 'American Crew' 'Blisscovered'\n",
            " 'Alina decor' 'MANOHARI' 'Aujjessa' 't-base' 'NBA' 'RUF & TUF'\n",
            " 'SPRAY GROUND' 'UNKNOWN by Ayesha' 'WILD WEST' 'Pure Play'\n",
            " 'PUMA Motorsport' '20Dresses' 'Enamor' 'Aerosoles' 'Garmin'\n",
            " 'Street Style Store' 'Alom' 'DOT & KEY' 'pinwheel' 'Lotto' 'IZOD' 'Ruosh'\n",
            " 'Aarika' 'Envy' 'Reebok Classic' 'FEVER' 'Madame' '612 league' 'Tossido'\n",
            " 'WISSTLER' 'AHIKA' 'Jompers' 'Yuuki' 'Ahalyaa' 'Z-ZOOM'\n",
            " 'Van Heusen Woman' 'Blacksmith' 'fungus' 'Naari' 'Van Heusen Sport'\n",
            " 'Lady Love' 'NIZA' 'Saint G' 'HIROLAS' 'The Pink Moon' 'MISH' 'Vozaf'\n",
            " 'Louis Philippe Jeans' 'Indo Era' 'CALFNERO' 'The House of Tara'\n",
            " 'Kids Ville' 'The Chennai Silks' 'Superdry' 'Fox' 'Anouk' 'OFF LIMITS'\n",
            " 'Frozen' 'DIXCY SCOTT' 'BEARDO' 'Sherlock' 'FS Mini Klub' 'De Moza'\n",
            " 'VarEesha' 'Zelocity' 'Peanuts' 'Denizen From Levis' 'Ferraiolo'\n",
            " 'Yaadleen' 'Peter England Elite' 'SEIKO' 'TALES & STORIES'\n",
            " 'Daily Life Forever52' 'The Vanca' 'AND' 'The Indian Garage Co' 'Voyage'\n",
            " 'Reebok' 'SCOUP' 'GNIST' 'Biba' 'RAISIN' 'AASK' 'FABNEST'\n",
            " 'Signature Sole' 'Batman' 'STAR WARS' 'SWAROVSKI' 'FUGAZEE'\n",
            " 'KAMA AYURVEDA' 'ADIDAS Originals' 'Fusion Beats' 'bodha' 'Peora'\n",
            " 'Amante' 'naughty ninos' 'Rajesh Silk Mills' 'ADIDAS' 'Allen Solly Sport'\n",
            " 'Krafted with Happiness' 'Golden Girl' 'RUGSMITH' 'SKAGEN'\n",
            " 'Masculino Latino' 'Lychee bags' 'Ira Soleil' 'CORSICA' 'Instacrush'\n",
            " 'SCUDERIA FERRARI' 'Superman' 'DailyObjects' 'The Dry State'\n",
            " 'Makeup Revolution London' 'Orange and Orchid' 'CAPTAIN AMERICA'\n",
            " 'Teakwood Leathers' 'Ponds' 'Inc 5' 'EK DO DHAI' 'Natilene' 'OBOW'\n",
            " 'Basics' 'ESBEDA' 'TAG EYE' 'Proline Active' 'FableStreet' 'amraoo'\n",
            " 'Varkala Silk Sarees' 'LilPicks' 'Lacoste' 'Purple Feather'\n",
            " 'FURO by Red Chief' 'WESTCLO' 'FOREVER 21' 'Barbie by Many Frocks &'\n",
            " 'Khushal K' 'Rangoli Jaipur' 'I AM FOR YOU' 'Soulflower'\n",
            " 'Allen Solly Junior' 'Hubberholme' 'BOLLYGLOW' 'Braun' 'DUGRISTYLE'\n",
            " 'HUNTER 1114' 'FILA' 'Vastraa Fusion' 'Renka' 'U.S. Polo Assn. Women'\n",
            " 'Antheaa' 'Tikhi Imli' 'Wear Your Mind' 'Moon Dust' 'Philips'\n",
            " 'AWW HUNNIE' 'Purple State' 'Kidling' 'Twisha' 'Genius18' 'Pepe Jeans'\n",
            " 'Plum' 'Lapis O Lupo' 'SHINGORA' 'Lino Perros' 'Revlon' 'MomToBe'\n",
            " 'DEYANN' 'Nauti Nati' 'FLAVIDO' 'QUIERO' 'Inddus' 'Laceandme'\n",
            " 'Maybelline' 'STREET 9' 'Rain & Rainbow' 'Campana' 'ToniQ'\n",
            " 'OSHKOSH Bgosh' 'Qurvii' 'ULRIC DE VARENS' 'BUKKUM' 'KID1' 'Hidesign'\n",
            " 'Sonari' 'Wrangler' 'Ives' 'Noble Faith' 'PURYS'\n",
            " 'BEAT LONDON by PEPE JEANS' 'Chopard' 'House of Pataudi' 'INVU' 'CAT'\n",
            " 'ESPRIT' 'PRITA' 'Satrani' '109F' 'SWISS MILITARY' 'Carven'\n",
            " 'Stupid Cupid']\n"
          ]
        }
      ]
    },
    {
      "cell_type": "code",
      "metadata": {
        "colab": {
          "base_uri": "https://localhost:8080/"
        },
        "id": "qWsNKfAO1SkE",
        "outputId": "958154a1-3ee0-4ed1-da7d-01073b9ebbbe"
      },
      "source": [
        "print(df['Gender'].nunique())\n",
        "print(df['Gender'].unique())"
      ],
      "execution_count": null,
      "outputs": [
        {
          "output_type": "stream",
          "name": "stdout",
          "text": [
            "6\n",
            "['Unisex' 'Women' 'Men' 'Boys' 'Girls' 'Unisex Kids']\n"
          ]
        }
      ]
    },
    {
      "cell_type": "code",
      "metadata": {
        "colab": {
          "base_uri": "https://localhost:8080/"
        },
        "id": "ooR43W5o4uwD",
        "outputId": "b6f286a8-f711-4760-b26f-7c3370c5eea5"
      },
      "source": [
        "print(df['PrimaryColor'].nunique())\n",
        "print(df['PrimaryColor'].unique())"
      ],
      "execution_count": null,
      "outputs": [
        {
          "output_type": "stream",
          "name": "stdout",
          "text": [
            "28\n",
            "[' Black' ' Beige' ' Pink' 'Blue' ' White' ' Brown' ' Burgundy' ' Red'\n",
            " ' Green' 'Not Specified' ' Maroon' ' Navy' ' Gold' ' Yellow' ' Grey'\n",
            " ' Platinum' ' Silver' ' Khaki' ' Mustard' ' Lavender' ' Matte' ' Rose'\n",
            " ' Charcoal' ' Purple' ' Orange' ' Peach' ' Magenta' ' Bronze']\n"
          ]
        }
      ]
    },
    {
      "cell_type": "code",
      "metadata": {
        "id": "ze6ULYK_oSP9"
      },
      "source": [
        "#Hipótese\n",
        "#Verificar relação entre as variáveis: ProductId; ProductBrand; Price; Gender; PrimaryColor"
      ],
      "execution_count": null,
      "outputs": []
    },
    {
      "cell_type": "code",
      "metadata": {
        "colab": {
          "base_uri": "https://localhost:8080/",
          "height": 345
        },
        "id": "LY_oHPcLCiG9",
        "outputId": "4cf89838-0c07-432e-e979-66209aa954f8"
      },
      "source": [
        "#Produtos x Gênero\n",
        "df1=df.groupby('Gender')['ProductID'].count().sort_values(ascending=False).head(30)\n",
        "df1.plot.bar()"
      ],
      "execution_count": null,
      "outputs": [
        {
          "output_type": "execute_result",
          "data": {
            "text/plain": [
              "<matplotlib.axes._subplots.AxesSubplot at 0x7fb3d940b110>"
            ]
          },
          "metadata": {},
          "execution_count": 74
        },
        {
          "output_type": "display_data",
          "data": {
            "image/png": "[encoded data removed]",
            "text/plain": [
              "<Figure size 432x288 with 1 Axes>"
            ]
          },
          "metadata": {
            "needs_background": "light"
          }
        }
      ]
    },
    {
      "cell_type": "code",
      "metadata": {
        "colab": {
          "base_uri": "https://localhost:8080/",
          "height": 283
        },
        "id": "htHCv4czD4w_",
        "outputId": "63267f3a-ec4b-4620-f1fb-e62edce6724f"
      },
      "source": [
        "df.groupby('PrimaryColor')['ProductID'].count().plot.barh()"
      ],
      "execution_count": null,
      "outputs": [
        {
          "output_type": "execute_result",
          "data": {
            "text/plain": [
              "<matplotlib.axes._subplots.AxesSubplot at 0x7fb3d7740ed0>"
            ]
          },
          "metadata": {},
          "execution_count": 75
        },
        {
          "output_type": "display_data",
          "data": {
            "image/png": "[encoded data removed]",
            "text/plain": [
              "<Figure size 432x288 with 1 Axes>"
            ]
          },
          "metadata": {
            "needs_background": "light"
          }
        }
      ]
    },
    {
      "cell_type": "code",
      "source": [
        ""
      ],
      "metadata": {
        "id": "K4eAW0kOIM5B"
      },
      "execution_count": null,
      "outputs": []
    },
    {
      "cell_type": "code",
      "metadata": {
        "id": "6tA6_CBgXxqn"
      },
      "source": [
        "#Exemplo do gráfico acima - retirado de notebook do kaggle -\n",
        "df[\"PrimaryColor\"] = df[\"PrimaryColor\"].apply(lambda x : str(x).strip())\n",
        "vc = df['PrimaryColor'].value_counts().to_frame().reset_index().head(15)"
      ],
      "execution_count": null,
      "outputs": []
    },
    {
      "cell_type": "code",
      "metadata": {
        "colab": {
          "base_uri": "https://localhost:8080/",
          "height": 542
        },
        "id": "fq8BxjxfYnKo",
        "outputId": "96e25214-aa63-4425-a475-74d655ca9ea1"
      },
      "source": [
        "fig = px.bar(y=list(vc['PrimaryColor'])[::-1], x=list(vc['index'])[::-1])\n",
        "fig.update_layout(plot_bgcolor=\"#fff\", title=\"Most Popular Colors\", xaxis_title=\"\", yaxis_title=\"Counts\")\n",
        "fig.show()"
      ],
      "execution_count": null,
      "outputs": [
        {
          "output_type": "display_data",
          "data": {
            "text/html": [
              "<html>\n",
              "<head><meta charset=\"utf-8\" /></head>\n",
              "<body>\n",
              "    <div>\n",
              "            <script src=\"https://cdnjs.cloudflare.com/ajax/libs/mathjax/2.7.5/MathJax.js?config=TeX-AMS-MML_SVG\"></script><script type=\"text/javascript\">if (window.MathJax) {MathJax.Hub.Config({SVG: {font: \"STIX-Web\"}});}</script>\n",
              "                <script type=\"text/javascript\">window.PlotlyConfig = {MathJaxConfig: 'local'};</script>\n",
              "        <script src=\"https://cdn.plot.ly/plotly-latest.min.js\"></script>    \n",
              "            <div id=\"e2d05c46-dba5-441a-ba6c-c7f98adf8718\" class=\"plotly-graph-div\" style=\"height:525px; width:100%;\"></div>\n",
              "            <script type=\"text/javascript\">\n",
              "                \n",
              "                    window.PLOTLYENV=window.PLOTLYENV || {};\n",
              "                    \n",
              "                if (document.getElementById(\"e2d05c46-dba5-441a-ba6c-c7f98adf8718\")) {\n",
              "                    Plotly.newPlot(\n",
              "                        'e2d05c46-dba5-441a-ba6c-c7f98adf8718',\n",
              "                        [{\"alignmentgroup\": \"True\", \"hoverlabel\": {\"namelength\": 0}, \"hovertemplate\": \"x=%{x}<br>y=%{y}\", \"legendgroup\": \"\", \"marker\": {\"color\": \"#636efa\"}, \"name\": \"\", \"offsetgroup\": \"\", \"orientation\": \"v\", \"showlegend\": false, \"textposition\": \"auto\", \"type\": \"bar\", \"x\": [\"Silver\", \"Orange\", \"Maroon\", \"Beige\", \"Gold\", \"Pink\", \"Yellow\", \"Brown\", \"Grey\", \"White\", \"Not Specified\", \"Green\", \"Red\", \"Black\", \"Blue\"], \"xaxis\": \"x\", \"y\": [111, 130, 187, 236, 236, 391, 406, 473, 684, 880, 894, 908, 1543, 1640, 3443], \"yaxis\": \"y\"}],\n",
              "                        {\"barmode\": \"relative\", \"legend\": {\"tracegroupgap\": 0}, \"margin\": {\"t\": 60}, \"plot_bgcolor\": \"#fff\", \"template\": {\"data\": {\"bar\": [{\"error_x\": {\"color\": \"#2a3f5f\"}, \"error_y\": {\"color\": \"#2a3f5f\"}, \"marker\": {\"line\": {\"color\": \"#E5ECF6\", \"width\": 0.5}}, \"type\": \"bar\"}], \"barpolar\": [{\"marker\": {\"line\": {\"color\": \"#E5ECF6\", \"width\": 0.5}}, \"type\": \"barpolar\"}], \"carpet\": [{\"aaxis\": {\"endlinecolor\": \"#2a3f5f\", \"gridcolor\": \"white\", \"linecolor\": \"white\", \"minorgridcolor\": \"white\", \"startlinecolor\": \"#2a3f5f\"}, \"baxis\": {\"endlinecolor\": \"#2a3f5f\", \"gridcolor\": \"white\", \"linecolor\": \"white\", \"minorgridcolor\": \"white\", \"startlinecolor\": \"#2a3f5f\"}, \"type\": \"carpet\"}], \"choropleth\": [{\"colorbar\": {\"outlinewidth\": 0, \"ticks\": \"\"}, \"type\": \"choropleth\"}], \"contour\": [{\"colorbar\": {\"outlinewidth\": 0, \"ticks\": \"\"}, \"colorscale\": [[0.0, \"#0d0887\"], [0.1111111111111111, \"#46039f\"], [0.2222222222222222, \"#7201a8\"], [0.3333333333333333, \"#9c179e\"], [0.4444444444444444, \"#bd3786\"], [0.5555555555555556, \"#d8576b\"], [0.6666666666666666, \"#ed7953\"], [0.7777777777777778, \"#fb9f3a\"], [0.8888888888888888, \"#fdca26\"], [1.0, \"#f0f921\"]], \"type\": \"contour\"}], \"contourcarpet\": [{\"colorbar\": {\"outlinewidth\": 0, \"ticks\": \"\"}, \"type\": \"contourcarpet\"}], \"heatmap\": [{\"colorbar\": {\"outlinewidth\": 0, \"ticks\": \"\"}, \"colorscale\": [[0.0, \"#0d0887\"], [0.1111111111111111, \"#46039f\"], [0.2222222222222222, \"#7201a8\"], [0.3333333333333333, \"#9c179e\"], [0.4444444444444444, \"#bd3786\"], [0.5555555555555556, \"#d8576b\"], [0.6666666666666666, \"#ed7953\"], [0.7777777777777778, \"#fb9f3a\"], [0.8888888888888888, \"#fdca26\"], [1.0, \"#f0f921\"]], \"type\": \"heatmap\"}], \"heatmapgl\": [{\"colorbar\": {\"outlinewidth\": 0, \"ticks\": \"\"}, \"colorscale\": [[0.0, \"#0d0887\"], [0.1111111111111111, \"#46039f\"], [0.2222222222222222, \"#7201a8\"], [0.3333333333333333, \"#9c179e\"], [0.4444444444444444, \"#bd3786\"], [0.5555555555555556, \"#d8576b\"], [0.6666666666666666, \"#ed7953\"], [0.7777777777777778, \"#fb9f3a\"], [0.8888888888888888, \"#fdca26\"], [1.0, \"#f0f921\"]], \"type\": \"heatmapgl\"}], \"histogram\": [{\"marker\": {\"colorbar\": {\"outlinewidth\": 0, \"ticks\": \"\"}}, \"type\": \"histogram\"}], \"histogram2d\": [{\"colorbar\": {\"outlinewidth\": 0, \"ticks\": \"\"}, \"colorscale\": [[0.0, \"#0d0887\"], [0.1111111111111111, \"#46039f\"], [0.2222222222222222, \"#7201a8\"], [0.3333333333333333, \"#9c179e\"], [0.4444444444444444, \"#bd3786\"], [0.5555555555555556, \"#d8576b\"], [0.6666666666666666, \"#ed7953\"], [0.7777777777777778, \"#fb9f3a\"], [0.8888888888888888, \"#fdca26\"], [1.0, \"#f0f921\"]], \"type\": \"histogram2d\"}], \"histogram2dcontour\": [{\"colorbar\": {\"outlinewidth\": 0, \"ticks\": \"\"}, \"colorscale\": [[0.0, \"#0d0887\"], [0.1111111111111111, \"#46039f\"], [0.2222222222222222, \"#7201a8\"], [0.3333333333333333, \"#9c179e\"], [0.4444444444444444, \"#bd3786\"], [0.5555555555555556, \"#d8576b\"], [0.6666666666666666, \"#ed7953\"], [0.7777777777777778, \"#fb9f3a\"], [0.8888888888888888, \"#fdca26\"], [1.0, \"#f0f921\"]], \"type\": \"histogram2dcontour\"}], \"mesh3d\": [{\"colorbar\": {\"outlinewidth\": 0, \"ticks\": \"\"}, \"type\": \"mesh3d\"}], \"parcoords\": [{\"line\": {\"colorbar\": {\"outlinewidth\": 0, \"ticks\": \"\"}}, \"type\": \"parcoords\"}], \"pie\": [{\"automargin\": true, \"type\": \"pie\"}], \"scatter\": [{\"marker\": {\"colorbar\": {\"outlinewidth\": 0, \"ticks\": \"\"}}, \"type\": \"scatter\"}], \"scatter3d\": [{\"line\": {\"colorbar\": {\"outlinewidth\": 0, \"ticks\": \"\"}}, \"marker\": {\"colorbar\": {\"outlinewidth\": 0, \"ticks\": \"\"}}, \"type\": \"scatter3d\"}], \"scattercarpet\": [{\"marker\": {\"colorbar\": {\"outlinewidth\": 0, \"ticks\": \"\"}}, \"type\": \"scattercarpet\"}], \"scattergeo\": [{\"marker\": {\"colorbar\": {\"outlinewidth\": 0, \"ticks\": \"\"}}, \"type\": \"scattergeo\"}], \"scattergl\": [{\"marker\": {\"colorbar\": {\"outlinewidth\": 0, \"ticks\": \"\"}}, \"type\": \"scattergl\"}], \"scattermapbox\": [{\"marker\": {\"colorbar\": {\"outlinewidth\": 0, \"ticks\": \"\"}}, \"type\": \"scattermapbox\"}], \"scatterpolar\": [{\"marker\": {\"colorbar\": {\"outlinewidth\": 0, \"ticks\": \"\"}}, \"type\": \"scatterpolar\"}], \"scatterpolargl\": [{\"marker\": {\"colorbar\": {\"outlinewidth\": 0, \"ticks\": \"\"}}, \"type\": \"scatterpolargl\"}], \"scatterternary\": [{\"marker\": {\"colorbar\": {\"outlinewidth\": 0, \"ticks\": \"\"}}, \"type\": \"scatterternary\"}], \"surface\": [{\"colorbar\": {\"outlinewidth\": 0, \"ticks\": \"\"}, \"colorscale\": [[0.0, \"#0d0887\"], [0.1111111111111111, \"#46039f\"], [0.2222222222222222, \"#7201a8\"], [0.3333333333333333, \"#9c179e\"], [0.4444444444444444, \"#bd3786\"], [0.5555555555555556, \"#d8576b\"], [0.6666666666666666, \"#ed7953\"], [0.7777777777777778, \"#fb9f3a\"], [0.8888888888888888, \"#fdca26\"], [1.0, \"#f0f921\"]], \"type\": \"surface\"}], \"table\": [{\"cells\": {\"fill\": {\"color\": \"#EBF0F8\"}, \"line\": {\"color\": \"white\"}}, \"header\": {\"fill\": {\"color\": \"#C8D4E3\"}, \"line\": {\"color\": \"white\"}}, \"type\": \"table\"}]}, \"layout\": {\"annotationdefaults\": {\"arrowcolor\": \"#2a3f5f\", \"arrowhead\": 0, \"arrowwidth\": 1}, \"coloraxis\": {\"colorbar\": {\"outlinewidth\": 0, \"ticks\": \"\"}}, \"colorscale\": {\"diverging\": [[0, \"#8e0152\"], [0.1, \"#c51b7d\"], [0.2, \"#de77ae\"], [0.3, \"#f1b6da\"], [0.4, \"#fde0ef\"], [0.5, \"#f7f7f7\"], [0.6, \"#e6f5d0\"], [0.7, \"#b8e186\"], [0.8, \"#7fbc41\"], [0.9, \"#4d9221\"], [1, \"#276419\"]], \"sequential\": [[0.0, \"#0d0887\"], [0.1111111111111111, \"#46039f\"], [0.2222222222222222, \"#7201a8\"], [0.3333333333333333, \"#9c179e\"], [0.4444444444444444, \"#bd3786\"], [0.5555555555555556, \"#d8576b\"], [0.6666666666666666, \"#ed7953\"], [0.7777777777777778, \"#fb9f3a\"], [0.8888888888888888, \"#fdca26\"], [1.0, \"#f0f921\"]], \"sequentialminus\": [[0.0, \"#0d0887\"], [0.1111111111111111, \"#46039f\"], [0.2222222222222222, \"#7201a8\"], [0.3333333333333333, \"#9c179e\"], [0.4444444444444444, \"#bd3786\"], [0.5555555555555556, \"#d8576b\"], [0.6666666666666666, \"#ed7953\"], [0.7777777777777778, \"#fb9f3a\"], [0.8888888888888888, \"#fdca26\"], [1.0, \"#f0f921\"]]}, \"colorway\": [\"#636efa\", \"#EF553B\", \"#00cc96\", \"#ab63fa\", \"#FFA15A\", \"#19d3f3\", \"#FF6692\", \"#B6E880\", \"#FF97FF\", \"#FECB52\"], \"font\": {\"color\": \"#2a3f5f\"}, \"geo\": {\"bgcolor\": \"white\", \"lakecolor\": \"white\", \"landcolor\": \"#E5ECF6\", \"showlakes\": true, \"showland\": true, \"subunitcolor\": \"white\"}, \"hoverlabel\": {\"align\": \"left\"}, \"hovermode\": \"closest\", \"mapbox\": {\"style\": \"light\"}, \"paper_bgcolor\": \"white\", \"plot_bgcolor\": \"#E5ECF6\", \"polar\": {\"angularaxis\": {\"gridcolor\": \"white\", \"linecolor\": \"white\", \"ticks\": \"\"}, \"bgcolor\": \"#E5ECF6\", \"radialaxis\": {\"gridcolor\": \"white\", \"linecolor\": \"white\", \"ticks\": \"\"}}, \"scene\": {\"xaxis\": {\"backgroundcolor\": \"#E5ECF6\", \"gridcolor\": \"white\", \"gridwidth\": 2, \"linecolor\": \"white\", \"showbackground\": true, \"ticks\": \"\", \"zerolinecolor\": \"white\"}, \"yaxis\": {\"backgroundcolor\": \"#E5ECF6\", \"gridcolor\": \"white\", \"gridwidth\": 2, \"linecolor\": \"white\", \"showbackground\": true, \"ticks\": \"\", \"zerolinecolor\": \"white\"}, \"zaxis\": {\"backgroundcolor\": \"#E5ECF6\", \"gridcolor\": \"white\", \"gridwidth\": 2, \"linecolor\": \"white\", \"showbackground\": true, \"ticks\": \"\", \"zerolinecolor\": \"white\"}}, \"shapedefaults\": {\"line\": {\"color\": \"#2a3f5f\"}}, \"ternary\": {\"aaxis\": {\"gridcolor\": \"white\", \"linecolor\": \"white\", \"ticks\": \"\"}, \"baxis\": {\"gridcolor\": \"white\", \"linecolor\": \"white\", \"ticks\": \"\"}, \"bgcolor\": \"#E5ECF6\", \"caxis\": {\"gridcolor\": \"white\", \"linecolor\": \"white\", \"ticks\": \"\"}}, \"title\": {\"x\": 0.05}, \"xaxis\": {\"automargin\": true, \"gridcolor\": \"white\", \"linecolor\": \"white\", \"ticks\": \"\", \"title\": {\"standoff\": 15}, \"zerolinecolor\": \"white\", \"zerolinewidth\": 2}, \"yaxis\": {\"automargin\": true, \"gridcolor\": \"white\", \"linecolor\": \"white\", \"ticks\": \"\", \"title\": {\"standoff\": 15}, \"zerolinecolor\": \"white\", \"zerolinewidth\": 2}}}, \"title\": {\"text\": \"Most Popular Colors\"}, \"xaxis\": {\"anchor\": \"y\", \"domain\": [0.0, 1.0], \"title\": {\"text\": \"\"}}, \"yaxis\": {\"anchor\": \"x\", \"domain\": [0.0, 1.0], \"title\": {\"text\": \"Counts\"}}},\n",
              "                        {\"responsive\": true}\n",
              "                    ).then(function(){\n",
              "                            \n",
              "var gd = document.getElementById('e2d05c46-dba5-441a-ba6c-c7f98adf8718');\n",
              "var x = new MutationObserver(function (mutations, observer) {{\n",
              "        var display = window.getComputedStyle(gd).display;\n",
              "        if (!display || display === 'none') {{\n",
              "            console.log([gd, 'removed!']);\n",
              "            Plotly.purge(gd);\n",
              "            observer.disconnect();\n",
              "        }}\n",
              "}});\n",
              "\n",
              "// Listen for the removal of the full notebook cells\n",
              "var notebookContainer = gd.closest('#notebook-container');\n",
              "if (notebookContainer) {{\n",
              "    x.observe(notebookContainer, {childList: true});\n",
              "}}\n",
              "\n",
              "// Listen for the clearing of the current output cell\n",
              "var outputEl = gd.closest('.output');\n",
              "if (outputEl) {{\n",
              "    x.observe(outputEl, {childList: true});\n",
              "}}\n",
              "\n",
              "                        })\n",
              "                };\n",
              "                \n",
              "            </script>\n",
              "        </div>\n",
              "</body>\n",
              "</html>"
            ]
          },
          "metadata": {}
        }
      ]
    },
    {
      "cell_type": "markdown",
      "metadata": {
        "id": "_EVSWLUAYmnx"
      },
      "source": [
        ""
      ]
    },
    {
      "cell_type": "code",
      "metadata": {
        "colab": {
          "base_uri": "https://localhost:8080/",
          "height": 542
        },
        "id": "vkXl2mnGXzuE",
        "outputId": "8b414a29-2481-433f-b58b-ec41132d16e3"
      },
      "source": [
        "# Retirado de exemplo do kaggle\n",
        "fig = px.histogram(x=df[df['Price (INR)'] < 10000][\"Price (INR)\"])\n",
        "fig.update_layout(plot_bgcolor=\"#fff\", title=\"Price Distribution\", yaxis_title=\"\", xaxis_title=\"Counts\")\n",
        "fig.show()"
      ],
      "execution_count": null,
      "outputs": [
        {
          "output_type": "display_data",
          "data": {
            "text/html": [
              "<html>\n",
              "<head><meta charset=\"utf-8\" /></head>\n",
              "<body>\n",
              "    <div>\n",
              "            <script src=\"https://cdnjs.cloudflare.com/ajax/libs/mathjax/2.7.5/MathJax.js?config=TeX-AMS-MML_SVG\"></script><script type=\"text/javascript\">if (window.MathJax) {MathJax.Hub.Config({SVG: {font: \"STIX-Web\"}});}</script>\n",
              "                <script type=\"text/javascript\">window.PlotlyConfig = {MathJaxConfig: 'local'};</script>\n",
              "        <script src=\"https://cdn.plot.ly/plotly-latest.min.js\"></script>    \n",
              "            <div id=\"f5e93908-44e7-4db5-bdd9-5b210750f61f\" class=\"plotly-graph-div\" style=\"height:525px; width:100%;\"></div>\n",
              "            <script type=\"text/javascript\">\n",
              "                \n",
              "                    window.PLOTLYENV=window.PLOTLYENV || {};\n",
              "                    \n",
              "                if (document.getElementById(\"f5e93908-44e7-4db5-bdd9-5b210750f61f\")) {\n",
              "                    Plotly.newPlot(\n",
              "                        'f5e93908-44e7-4db5-bdd9-5b210750f61f',\n",
              "                        [{\"alignmentgroup\": \"True\", \"bingroup\": \"x\", \"hoverlabel\": {\"namelength\": 0}, \"hovertemplate\": \"x=%{x}<br>count=%{y}\", \"legendgroup\": \"\", \"marker\": {\"color\": \"#636efa\"}, \"name\": \"\", \"offsetgroup\": \"\", \"orientation\": \"v\", \"showlegend\": false, \"type\": \"histogram\", \"x\": [5810, 899, 5599, 759, 791, 719, 899, 664, 2463, 629, 2695, 892, 752, 1079, 1620, 899, 599, 1749, 7920, 699, 899, 1199, 539, 2385, 1199, 1079, 699, 899, 1437, 979, 779, 749, 956, 499, 769, 4275, 499, 4600, 699, 1044, 2685, 1124, 989, 750, 1999, 1619, 1199, 1189, 399, 9756, 1609, 1469, 499, 479, 449, 1469, 539, 1299, 399, 499, 899, 1218, 1609, 1214, 899, 1154, 449, 266, 3640, 1189, 1836, 699, 3116, 1484, 999, 859, 1679, 939, 425, 799, 1299, 539, 1749, 949, 647, 1799, 779, 1999, 569, 1699, 944, 3499, 899, 1329, 699, 1345, 649, 1189, 839, 577, 1432, 698, 899, 865, 539, 499, 899, 547, 839, 559, 3875, 1214, 599, 739, 739, 714, 5650, 1685, 539, 839, 336, 1749, 510, 499, 5715, 1732, 1627, 693, 3595, 1890, 1299, 684, 2685, 1999, 1299, 1199, 511, 1299, 699, 1154, 1234, 7000, 1819, 1749, 539, 699, 734, 449, 1049, 899, 9750, 717, 1199, 764, 1299, 919, 699, 449, 1999, 989, 400, 699, 740, 1499, 1189, 1169, 539, 499, 267, 699, 425, 944, 400, 480, 1740, 540, 1596, 569, 5998, 320, 425, 1199, 399, 3285, 5299, 1399, 699, 839, 1199, 9765, 804, 728, 999, 400, 1539, 1609, 639, 399, 599, 4573, 1609, 425, 899, 293, 839, 1999, 1249, 593, 350, 1189, 524, 1214, 974, 779, 612, 1679, 499, 448, 499, 989, 879, 678, 699, 629, 1299, 539, 1399, 629, 1099, 2985, 3899, 759, 944, 1732, 759, 999, 1091, 2985, 629, 944, 401, 389, 979, 443, 1501, 425, 1785, 839, 1819, 593, 1679, 1019, 6120, 679, 719, 999, 999, 999, 699, 539, 1469, 399, 699, 1469, 799, 349, 7650, 559, 1039, 1609, 1785, 699, 1399, 1599, 999, 399, 4499, 539, 1609, 539, 489, 539, 1836, 899, 699, 799, 1999, 520, 1620, 1079, 2999, 559, 1317, 1195, 1690, 699, 999, 1999, 1049, 1799, 3149, 4220, 1218, 3116, 599, 266, 699, 959, 679, 4350, 1214, 699, 449, 559, 419, 552, 639, 1199, 499, 3597, 499, 1079, 599, 899, 1749, 949, 1299, 1399, 559, 659, 854, 499, 1512, 1740, 539, 2685, 539, 999, 1199, 559, 549, 839, 699, 594, 1195, 1439, 629, 499, 1329, 699, 752, 1286, 399, 999, 1749, 848, 4880, 1620, 1317, 559, 899, 845, 1477, 450, 509, 1999, 419, 499, 1019, 865, 804, 1329, 799, 1192, 1112, 2685, 1079, 6289, 2399, 999, 1299, 822, 728, 769, 693, 299, 699, 384, 2860, 769, 699, 349, 412, 1299, 649, 1999, 988, 699, 1286, 999, 1609, 999, 849, 425, 1890, 699, 779, 892, 2997, 699, 799, 8356, 752, 489, 988, 1199, 1079, 559, 7920, 1890, 419, 1399, 2095, 1732, 3499, 539, 479, 1249, 959, 1830, 489, 1609, 1079, 1679, 1749, 6649, 999, 899, 2399, 799, 1189, 576, 425, 4275, 449, 425, 1299, 549, 3500, 839, 874, 699, 1679, 1119, 425, 1197, 1959, 699, 3499, 539, 2685, 2924, 2799, 734, 629, 699, 2685, 1679, 699, 1799, 1317, 734, 759, 1049, 1620, 599, 5199, 1620, 1749, 1034, 612, 655, 454, 632, 629, 1097, 699, 599, 1627, 1251, 799, 655, 699, 999, 1609, 839, 1799, 809, 699, 899, 799, 503, 699, 400, 699, 629, 899, 1079, 899, 899, 1299, 1685, 839, 559, 839, 2385, 804, 1044, 594, 1210, 1079, 400, 899, 699, 599, 1299, 717, 1064, 399, 2999, 1299, 348, 1107, 2463, 1299, 974, 699, 1079, 2599, 759, 899, 400, 594, 1357, 425, 539, 1599, 1679, 647, 1499, 1099, 899, 299, 539, 999, 1299, 779, 539, 599, 267, 595, 699, 539, 1499, 699, 9333, 752, 1197, 511, 1304, 664, 1749, 699, 594, 5998, 699, 6340, 799, 503, 799, 1469, 1539, 799, 3599, 3999, 4040, 659, 5590, 1982, 685, 1679, 1299, 899, 1732, 999, 552, 425, 999, 2999, 699, 395, 539, 1079, 512, 4410, 1079, 815, 699, 699, 999, 1189, 594, 539, 693, 539, 799, 3147, 1036, 779, 1890, 956, 1836, 999, 869, 593, 2699, 1499, 349, 999, 734, 1609, 883, 999, 621, 559, 768, 449, 523, 489, 1299, 612, 2499, 699, 520, 809, 1064, 999, 542, 584, 264, 699, 1299, 1999, 839, 839, 539, 5715, 759, 7650, 1119, 3597, 678, 425, 874, 1299, 539, 549, 612, 1819, 266, 593, 4499, 1432, 647, 1199, 7650, 1299, 734, 449, 979, 1699, 1484, 489, 859, 734, 1999, 5283, 1219, 348, 899, 539, 2095, 2995, 1836, 399, 468, 399, 779, 839, 1574, 787, 539, 425, 699, 835, 979, 7920, 623, 999, 349, 1437, 506, 2665, 349, 804, 559, 1214, 4531, 1049, 779, 790, 764, 699, 489, 664, 779, 577, 799, 1799, 711, 599, 1609, 752, 1379, 799, 956, 999, 734, 399, 1154, 629, 1679, 6206, 1890, 1043, 1299, 2399, 1679, 425, 499, 832, 510, 699, 979, 359, 1304, 899, 734, 1299, 699, 1716, 499, 1416, 1257, 539, 3800, 1799, 899, 734, 804, 5715, 1299, 2299, 612, 739, 1679, 647, 1119, 400, 699, 450, 1439, 7920, 699, 1740, 539, 559, 1732, 799, 791, 1139, 804, 3294, 1609, 384, 449, 1279, 399, 899, 539, 999, 1474, 1299, 1749, 593, 988, 1732, 425, 1195, 1124, 1299, 510, 1469, 839, 809, 1299, 503, 1299, 1192, 1299, 1299, 539, 824, 625, 719, 1709, 701, 1836, 329, 1299, 2274, 3199, 509, 822, 799, 899, 899, 259, 699, 919, 974, 489, 679, 699, 865, 999, 979, 503, 539, 1399, 1249, 1399, 593, 839, 759, 489, 623, 2899, 1357, 400, 593, 1299, 2900, 1890, 1679, 1836, 919, 749, 1574, 1394, 1885, 539, 599, 699, 1214, 3499, 489, 399, 1329, 1189, 539, 2549, 4275, 738, 1836, 799, 699, 4355, 539, 539, 612, 599, 899, 1749, 3990, 1732, 699, 2685, 1299, 6403, 266, 1749, 6174, 559, 549, 3800, 1999, 489, 659, 629, 1399, 699, 1620, 619, 1679, 1469, 779, 506, 629, 1836, 449, 6299, 400, 623, 1679, 539, 899, 425, 1299, 699, 1999, 539, 577, 632, 804, 399, 512, 1570, 1732, 2685, 956, 919, 559, 1399, 2685, 699, 4630, 1620, 510, 1620, 539, 1379, 4499, 699, 647, 1455, 1679, 1609, 3245, 1491, 882, 699, 640, 699, 1559, 549, 670, 2420, 739, 5999, 1347, 1299, 499, 1484, 1077, 4799, 1870, 539, 549, 805, 999, 739, 549, 3999, 1799, 1664, 4499, 1799, 1832, 967, 628, 449, 1592, 510, 2446, 939, 1154, 599, 625, 1329, 957, 699, 839, 1980, 1870, 549, 6999, 2449, 3999, 1937, 679, 499, 1870, 4249, 832, 5999, 679, 1034, 399, 3249, 649, 1299, 1484, 679, 899, 805, 479, 539, 580, 549, 720, 679, 489, 2295, 599, 599, 1199, 679, 399, 3499, 649, 399, 699, 2295, 699, 1890, 599, 3999, 889, 599, 2295, 1799, 1499, 3499, 599, 2700, 670, 599, 2700, 1299, 1076, 1592, 543, 549, 940, 4199, 1504, 679, 850, 699, 2125, 1725, 519, 857, 1210, 3999, 620, 601, 3599, 695, 749, 895, 799, 549, 836, 1300, 3499, 799, 3499, 959, 580, 1119, 1214, 599, 599, 549, 670, 524, 1049, 1870, 679, 649, 610, 2125, 599, 649, 2446, 489, 854, 1259, 549, 4499, 839, 699, 670, 1199, 869, 3999, 850, 1870, 1767, 549, 629, 889, 1499, 9540, 503, 9499, 854, 649, 604, 1299, 1899, 1899, 749, 584, 3999, 699, 5399, 699, 2125, 1210, 839, 1775, 959, 759, 679, 939, 2299, 649, 854, 1329, 599, 949, 1767, 509, 2295, 3240, 805, 889, 699, 1980, 454, 1799, 1139, 749, 670, 1049, 699, 5399, 899, 1499, 962, 679, 967, 940, 2096, 1279, 3749, 749, 649, 549, 1049, 2125, 1919, 967, 503, 5999, 1079, 2125, 889, 699, 3999, 5249, 629, 2699, 899, 699, 1599, 599, 503, 560, 899, 649, 2995, 699, 3299, 2340, 839, 4499, 608, 699, 1437, 3199, 989, 2295, 904, 279, 628, 2340, 854, 599, 967, 670, 989, 1556, 664, 5099, 2420, 670, 799, 599, 1767, 1699, 664, 999, 679, 511, 4249, 1499, 967, 897, 5999, 4499, 699, 1649, 1199, 957, 1119, 940, 674, 2125, 854, 399, 1199, 1119, 719, 549, 5499, 549, 1079, 836, 1870, 967, 599, 649, 899, 625, 640, 619, 895, 1799, 1504, 2125, 1455, 1999, 625, 699, 699, 1870, 670, 1259, 967, 664, 1034, 1890, 889, 599, 1437, 674, 1170, 679, 549, 1031, 674, 539, 854, 599, 1049, 539, 670, 699, 670, 695, 499, 2199, 967, 649, 967, 649, 3599, 664, 699, 989, 399, 889, 599, 549, 3499, 799, 7999, 599, 625, 554, 503, 3999, 1034, 649, 2499, 3999, 674, 4999, 699, 630, 599, 1999, 1399, 836, 4499, 599, 549, 799, 699, 670, 599, 711, 1870, 1999, 3674, 699, 2520, 599, 967, 854, 1735, 489, 1595, 512, 734, 2490, 5999, 649, 399, 1735, 989, 549, 1315, 899, 1499, 2125, 587, 839, 1980, 1519, 1399, 625, 599, 399, 3499, 670, 2699, 1049, 503, 1124, 3599, 1030, 2249, 774, 549, 599, 559, 599, 599, 699, 549, 3999, 2125, 1199, 906, 628, 9999, 699, 699, 6299, 679, 2340, 1034, 3999, 1199, 454, 2700, 3249, 549, 1113, 639, 2125, 1999, 2700, 628, 1259, 599, 839, 3999, 1679, 503, 1799, 967, 1299, 679, 836, 3749, 1799, 967, 2125, 679, 1674, 3999, 850, 699, 539, 499, 2295, 599, 297, 599, 168, 3499, 1119, 399, 882, 1499, 2699, 1149, 899, 1049, 849, 850, 503, 679, 674, 1899, 1032, 670, 549, 899, 549, 854, 1907, 824, 1890, 579, 2340, 402, 699, 874, 2125, 654, 4499, 739, 2699, 967, 679, 719, 599, 5499, 3999, 1049, 539, 857, 939, 1324, 967, 889, 549, 3499, 854, 549, 695, 999, 850, 1119, 882, 997, 2999, 2340, 699, 599, 999, 670, 1299, 599, 1274, 2699, 679, 8999, 1149, 549, 2499, 479, 2295, 574, 967, 3999, 1119, 549, 854, 2700, 5499, 3599, 855, 670, 1791, 957, 2550, 279, 867, 4249, 670, 599, 768, 760, 1299, 1999, 1609, 3999, 7999, 3999, 699, 599, 699, 1699, 2295, 967, 1574, 1999, 967, 967, 670, 895, 1620, 967, 619, 899, 6299, 549, 2380, 1119, 874, 821, 967, 2340, 503, 850, 664, 1329, 4499, 1214, 539, 625, 625, 1079, 649, 649, 6299, 1299, 749, 1592, 2125, 699, 5200, 967, 1599, 1259, 3999, 4049, 1049, 649, 599, 3599, 1299, 898, 1349, 6299, 715, 5999, 4499, 2250, 699, 1049, 503, 3118, 649, 889, 612, 599, 503, 1980, 1719, 670, 1247, 1499, 962, 1499, 899, 625, 549, 1299, 1170, 559, 4999, 670, 1099, 399, 399, 2250, 836, 1399, 699, 1727, 599, 699, 599, 2799, 399, 535, 940, 670, 1399, 549, 7999, 279, 3240, 1504, 509, 1752, 3999, 1877, 2499, 1999, 711, 4999, 1749, 979, 1071, 739, 699, 628, 1870, 3599, 454, 496, 3499, 2999, 649, 1999, 599, 899, 625, 2125, 899, 699, 625, 1999, 2429, 850, 4999, 889, 499, 674, 679, 2125, 699, 549, 695, 940, 599, 2999, 957, 599, 967, 1699, 699, 699, 599, 539, 649, 599, 3499, 647, 699, 3249, 1049, 2399, 1259, 695, 1349, 699, 715, 1399, 699, 9999, 1349, 399, 3199, 1329, 2449, 509, 664, 503, 2160, 625, 559, 1119, 399, 999, 505, 1119, 3499, 919, 8499, 883, 1124, 899, 2160, 854, 679, 5249, 1749, 2699, 670, 2697, 854, 804, 3499, 503, 4999, 2125, 1071, 1470, 449, 2999, 1007, 599, 649, 779, 1257, 503, 812, 7720, 3299, 2632, 1599, 2379, 679, 584, 734, 699, 649, 699, 1504, 1077, 5499, 2125, 539, 699, 699, 1329, 5849, 957, 957, 804, 999, 3999, 599, 959, 2295, 599, 8499, 899, 559, 4949, 509, 505, 699, 1139, 1599, 1379, 1475, 2340, 799, 699, 2700, 670, 3499, 503, 1469, 3499, 1870, 3499, 1199, 699, 824, 599, 628, 1119, 2099, 1358, 967, 760, 549, 1399, 1990, 1399, 599, 4299, 674, 1475, 1034, 539, 2125, 599, 854, 699, 629, 1399, 967, 4499, 3399, 999, 3690, 499, 1119, 1999, 499, 1870, 679, 1399, 599, 1599, 2249, 2699, 629, 2380, 1599, 867, 4634, 559, 824, 799, 5999, 1592, 699, 1239, 940, 1942, 649, 399, 539, 549, 3599, 1349, 4499, 2380, 2295, 1980, 670, 699, 549, 699, 2125, 719, 1634, 699, 628, 599, 649, 967, 899, 549, 1499, 2125, 699, 2295, 854, 967, 664, 2340, 639, 1299, 1119, 4749, 1912, 1349, 1124, 4274, 4199, 1679, 1119, 599, 664, 503, 1279, 679, 944, 1275, 1499, 1999, 625, 2290, 399, 962, 1439, 509, 247, 1519, 3149, 1741, 2076, 895, 839, 2039, 1159, 569, 461, 1067, 574, 1420, 1999, 594, 2449, 328, 674, 1398, 1189, 3516, 594, 4396, 468, 7996, 594, 649, 999, 2049, 1236, 489, 1377, 1649, 499, 857, 899, 1124, 756, 468, 1349, 1525, 875, 468, 1299, 699, 468, 1425, 968, 1049, 5036, 1349, 524, 4290, 1299, 899, 479, 3849, 499, 1196, 849, 749, 1268, 1239, 2796, 1999, 1199, 749, 594, 3676, 874, 3836, 1999, 1169, 625, 359, 4396, 874, 6796, 749, 1299, 2590, 1423, 499, 712, 730, 1333, 699, 4299, 4999, 1640, 1975, 999, 1699, 6956, 2150, 1439, 1299, 804, 399, 899, 1448, 2040, 5996, 2556, 359, 516, 1125, 959, 909, 598, 1002, 874, 669, 1499, 3596, 4499, 598, 699, 1019, 1999, 1299, 1034, 849, 1799, 519, 549, 1436, 1949, 1356, 721, 1756, 759, 499, 549, 659, 499, 7996, 849, 867, 683, 1160, 752, 1596, 524, 574, 7436, 4499, 874, 849, 359, 1299, 1573, 669, 1079, 3676, 751, 1214, 594, 995, 804, 2290, 909, 1999, 1299, 756, 7996, 1349, 752, 1274, 749, 1125, 804, 1349, 1299, 2040, 1379, 499, 712, 1960, 468, 2309, 1999, 1299, 468, 2499, 951, 2360, 749, 399, 838, 1169, 1199, 1349, 756, 959, 899, 524, 1149, 1890, 359, 4799, 1754, 899, 499, 3897, 1299, 683, 599, 1609, 468, 909, 496, 664, 699, 699, 1623, 1895, 797, 749, 3036, 1121, 639, 299, 1299, 995, 569, 1099, 1049, 2556, 664, 1596, 887, 1276, 1775, 7756, 349, 299, 1299, 747, 1279, 7996, 359, 1175, 468, 1579, 1715, 1299, 1119, 7996, 629, 499, 2236, 788, 299, 299, 1049, 874, 734, 752, 524, 524, 2956, 516, 524, 468, 359, 299, 1299, 719, 919, 499, 1299, 2490, 1169, 1999, 449, 799, 904, 599, 1345, 849, 1699, 499, 468, 6556, 899, 2399, 468, 776, 995, 752, 3676, 647, 699, 719, 749, 3596, 479, 1699, 997, 524, 999, 1999, 299, 359, 1875, 1799, 1276, 468, 600, 1255, 449, 516, 1633, 671, 1299, 999, 1995, 899, 839, 474, 598, 419, 4396, 468, 7330, 2099, 4716, 569, 1225, 712, 839, 799, 649, 649, 499, 2125, 499, 449, 1623, 1063, 1310, 524, 1160, 1299, 715, 1529, 4396, 3600, 629, 1799, 2290, 683, 3499, 1499, 756, 899, 599, 799, 449, 3996, 555, 6396, 1239, 461, 1675, 4636, 1799, 849, 647, 9995, 1077, 749, 1999, 1224, 849, 499, 699, 1275, 3357, 6556, 1320, 524, 719, 1239, 1039, 839, 6556, 919, 1282, 3417, 749, 1299, 849, 1699, 920, 1116, 756, 1649, 432, 1880, 838, 2799, 516, 449, 2039, 3146, 465, 1756, 1299, 1049, 1299, 875, 747, 3499, 835, 909, 599, 838, 909, 824, 756, 1799, 909, 299, 6956, 1999, 756, 599, 1299, 359, 1423, 1749, 1399, 1299, 1596, 949, 2040, 764, 2876, 1299, 574, 2076, 699, 869, 399, 1075, 857, 1299, 247, 5996, 1891, 299, 736, 1124, 1448, 489, 749, 699, 1299, 949, 743, 1699, 1861, 3425, 6796, 1960, 999, 927, 574, 999, 359, 1299, 2799, 1699, 1299, 664, 629, 664, 468, 4156, 1120, 1392, 875, 1499, 3596, 1299, 2076, 574, 351, 1048, 3057, 468, 1299, 468, 1125, 4000, 699, 664, 524, 3299, 995, 478, 1299, 1175, 3996, 4236, 524, 849, 468, 6796, 468, 799, 4999, 1299, 599, 599, 760, 1299, 2048, 1119, 1999, 9196, 712, 1475, 1299, 7836, 524, 599, 849, 468, 949, 899, 940, 611, 2502, 683, 1198, 516, 1759, 349, 1663, 2299, 3249, 468, 949, 799, 719, 669, 599, 1299, 1623, 756, 499, 594, 838, 1400, 9996, 597, 2556, 839, 1575, 792, 4956, 1299, 881, 3374, 940, 1299, 8396, 1125, 619, 899, 875, 1039, 399, 1499, 498, 4999, 7356, 1619, 468, 1119, 849, 649, 1299, 899, 678, 779, 1423, 949, 874, 2699, 1516, 4076, 1448, 1299, 1395, 699, 1676, 499, 468, 499, 756, 721, 3299, 727, 299, 756, 2999, 1999, 749, 569, 899, 649, 493, 3499, 2760, 612, 999, 899, 849, 945, 299, 991, 1899, 3836, 1299, 1299, 1299, 574, 1996, 899, 499, 7756, 1075, 1756, 879, 1960, 989, 1299, 468, 874, 474, 899, 2624, 664, 1276, 849, 995, 699, 3800, 449, 1125, 1519, 468, 944, 598, 1169, 756, 1596, 449, 2076, 593, 1999, 519, 857, 849, 1299, 599, 468, 1999, 749, 3836, 2299, 1080, 1049, 299, 2040, 629, 999, 468, 516, 7596, 1299, 499, 976, 3999, 874, 9995, 599, 1263, 1960, 399, 2956, 1575, 909, 899, 349, 449, 2396, 1490, 1214, 792, 649, 1077, 3196, 895, 9090, 499, 1990, 1119, 2796, 1695, 2396, 1595, 849, 1299, 712, 1325, 2556, 1999, 879, 664, 598, 569, 944, 959, 1839, 4396, 601, 664, 1349, 569, 1996, 601, 985, 2396, 1154, 6396, 2999, 516, 1399, 624, 1199, 1799, 2699, 3499, 3849, 3836, 4556, 2049, 1310, 647, 2396, 1119, 1640, 9196, 1999, 699, 349, 468, 1349, 1274, 3196, 2476, 5596, 659, 899, 671, 516, 299, 749, 359, 3325, 995, 1799, 1200, 995, 1299, 1999, 1099, 1839, 2049, 991, 895, 339, 5756, 629, 2956, 1049, 299, 1975, 899, 1310, 1599, 594, 379, 1049, 2799, 949, 1499, 499, 944, 1170, 687, 1299, 1299, 1999, 8396, 2425, 598, 979, 500, 2476, 1263, 516, 671, 628, 1899, 1349, 944, 899, 899, 1795, 1066, 1259, 516, 489, 1299, 524, 874, 1899, 1525, 993, 909, 899, 809, 574, 1299, 839, 3709, 611, 594, 1293, 4236, 899, 749, 1999, 1034, 1349, 1299, 1196, 2499, 2049, 2199, 2636, 979, 747, 519, 4274, 468, 1448, 3246, 1299, 1996, 712, 927, 8396, 1625, 499, 1423, 749, 1239, 849, 949, 6556, 3999, 1124, 899, 1199, 1839, 749, 1507, 1299, 574, 1079, 1239, 1899, 683, 719, 1049, 599, 1699, 1299, 1214, 7196, 2236, 4796, 468, 919, 999, 895, 664, 1999, 468, 949, 1070, 449, 1199, 468, 995, 1990, 1299, 879, 468, 899, 449, 1573, 756, 670, 1699, 1087, 468, 419, 8396, 4595, 1596, 749, 649, 752, 919, 1839, 594, 299, 1049, 749, 752, 995, 519, 1799, 468, 756, 749, 1675, 1246, 7436, 1125, 2205, 3199, 6556, 468, 664, 664, 1197, 3596, 749, 1274, 1349, 897, 649, 1049, 3749, 835, 956, 551, 594, 349, 2577, 809, 468, 1196, 1652, 239, 999, 1289, 1145, 2775, 1599, 287, 999, 1999, 881, 584, 449, 999, 449, 1294, 760, 999, 577, 449, 329, 6296, 2354, 434, 749, 1353, 850, 820, 359, 91, 647, 899, 537, 449, 5395, 1676, 279, 779, 1599, 399, 820, 551, 594, 1299, 849, 4495, 840, 1499, 1230, 1014, 5395, 524, 1999, 1377, 2290, 559, 449, 559, 1229, 749, 625, 584, 2499, 539, 820, 295, 999, 499, 1466, 899, 1299, 1299, 1199, 407, 820, 1377, 1199, 1299, 820, 1499, 820, 599, 745, 449, 2399, 990, 939, 699, 4799, 2199, 1317, 647, 1999, 1690, 399, 1396, 284, 1199, 599, 4290, 449, 349, 881, 559, 879, 479, 599, 880, 839, 2039, 1299, 1077, 968, 2274, 851, 2290, 1488, 678, 404, 839, 1455, 499, 720, 820, 1798, 480, 1299, 279, 1349, 449, 599, 1497, 1257, 1437, 1319, 6156, 699, 551, 639, 150, 820, 699, 193, 1124, 594, 359, 468, 499, 699, 1606, 1044, 278, 576, 349, 749, 1102, 3496, 745, 699, 679, 879, 896, 699, 1396, 2081, 2039, 750, 699, 767, 742, 869, 1798, 1102, 1299, 629, 1299, 674, 639, 1299, 1480, 1890, 359, 1199, 664, 2399, 1999, 1077, 639, 1501, 1299, 792, 359, 474, 495, 599, 629, 2375, 1249, 820, 749, 1497, 1437, 1007, 1049, 639, 599, 1299, 499, 1299, 599, 779, 1379, 1299, 699, 749, 899, 820, 424, 699, 2600, 1899, 774, 1310, 549, 1079, 1439, 683, 1041, 1299, 399, 479, 749, 299, 399, 494, 679, 489, 769, 1299, 2499, 879, 299, 667, 559, 1199, 895, 1466, 949, 629, 594, 1455, 2600, 2799, 494, 1799, 949, 490, 587, 1300, 1299, 589, 2499, 1372, 229, 539, 471, 471, 674, 1719, 995, 965, 439, 1299, 1299, 749, 1149, 1690, 749, 615, 1820, 559, 304, 494, 404, 749, 615, 1449, 820, 949, 1514, 1349, 1299, 1430, 1299, 839, 1999, 7507, 839, 1565, 2306, 820, 820, 591, 749, 599, 1497, 699, 312, 629, 1396, 820, 679, 500, 881, 820, 479, 399, 1149, 1559, 479, 1299, 359, 820, 549, 384, 1396, 329, 1299, 645, 1768, 1466, 699, 629, 569, 1356, 2727, 796, 1576, 1499, 424, 1299, 880, 1999, 1039, 1130, 1999, 2290, 1799, 1310, 759, 831, 91, 979, 1341, 287, 1130, 399, 419, 699, 2399, 399, 820, 749, 599, 449, 550, 279, 749, 399, 699, 399, 1145, 7915, 615, 820, 1999, 404, 1999, 5596, 1299, 274, 1466, 399, 1396, 764, 692, 449, 167, 809, 820, 699, 1799, 4695, 820, 4794, 3496, 699, 1799, 2593, 849, 2029, 449, 1197, 699, 551, 1349, 349, 400, 1394, 1699, 399, 949, 949, 599, 1599, 831, 699, 594, 1690, 614, 399, 1437, 764, 1499, 2396, 909, 749, 499, 1349, 820, 1499, 899, 545, 1200, 1299, 749, 150, 509, 767, 695, 919, 1047, 461, 1299, 839, 879, 404, 949, 284, 1196, 1310, 1034, 1149, 1199, 2100, 1356, 594, 647, 679, 919, 820, 895, 825, 906, 1299, 1310, 1295, 495, 749, 1349, 1299, 845, 909, 167, 412, 559, 1299, 1345, 774, 599, 1999, 1299, 1349, 449, 902, 1999, 740, 468, 679, 1575, 1257, 379, 434, 329, 610, 90, 1044, 1995, 424, 879, 1430, 569, 1299, 699, 549, 629, 229, 685, 1799, 881, 809, 494, 3747, 699, 5499, 839, 649, 776, 639, 1023, 229, 840, 839, 2399, 985, 599, 3149, 574, 769, 6999, 839, 1994, 707, 449, 1299, 999, 695, 639, 1299, 386, 699, 699, 839, 759, 699, 449, 820, 2251, 995, 820, 1583, 749, 699, 559, 999, 899, 699, 424, 1949, 599, 1272, 1314, 1317, 745, 1437, 1999, 489, 329, 559, 359, 881, 749, 626, 399, 447, 1469, 1099, 2399, 1299, 1299, 1149, 1299, 899, 845, 1299, 746, 2639, 647, 839, 881, 587, 404, 1999, 679, 284, 5946, 1820, 1210, 1919, 479, 91, 679, 1151, 449, 479, 1299, 1034, 692, 2938, 1606, 1299, 939, 359, 1606, 1836, 1497, 591, 3995, 944, 759, 683, 839, 629, 3496, 820, 1299, 699, 447, 767, 524, 2600, 1437, 911, 494, 384, 508, 1199, 792, 820, 3149, 674, 399, 2999, 2639, 1327, 571, 479, 449, 1299, 699, 881, 1299, 1994, 849, 1949, 639, 589, 879, 2251, 820, 1257, 1110, 990, 1317, 809, 699, 679, 699, 879, 539, 999, 449, 5499, 1199, 1027, 1109, 1257, 1299, 615, 1299, 1099, 839, 524, 407, 475, 615, 1180, 1299, 524, 449, 699, 659, 769, 1299, 559, 820, 1327, 449, 699, 979, 719, 1199, 923, 3006, 1497, 1999, 881, 1299, 645, 1299, 2274, 949, 1499, 1017, 594, 699, 1249, 599, 1999, 1317, 509, 990, 424, 820, 989, 1819, 749, 301, 820, 615, 615, 820, 1236, 1949, 399, 1719, 911, 4395, 796, 1299, 820, 599, 845, 949, 779, 465, 610, 749, 999, 499, 509, 820, 820, 539, 879, 686, 1299, 549, 594, 820, 1046, 573, 359, 542, 1094, 1311, 1994, 1299, 804, 1299, 599, 3299, 1260, 1259, 1169, 759, 820, 615, 749, 896, 91, 1349, 639, 542, 825, 509, 1799, 494, 319, 649, 923, 1396, 749, 1317, 1299, 765, 1437, 949, 629, 1739, 767, 1679, 419, 571, 1749, 1501, 251, 2205, 699, 1299, 749, 3490, 664, 1139, 399, 427, 1299, 1333, 949, 1077, 3146, 5466, 687, 1624, 598, 1501, 792, 1934, 3116, 961, 1396, 949, 489, 424, 639, 749, 5596, 820, 524, 442, 509, 1799, 591, 919, 569, 629, 1299, 558, 849, 1071, 674, 594, 544, 3250, 674, 649, 1189, 1999, 449, 699, 879, 895, 999, 1699, 594, 639, 5246, 5999, 2249, 1199, 1349, 1516, 949, 820, 881, 927, 3146, 1145, 955, 1396, 1299, 1999, 1497, 524, 699, 1994, 594, 1649, 1599, 449, 3846, 748, 349, 1299, 749, 249, 599, 699, 1440, 629, 1999, 639, 524, 1124, 594, 629, 820, 895, 1495, 1799, 299, 1230, 7996, 639, 610, 349, 1749, 1169, 899, 749, 949, 1299, 2999, 699, 1257, 449, 3243, 809, 479, 1317, 849, 1999, 579, 749, 1391, 1497, 599, 956, 1999, 1299, 699, 591, 895, 740, 2399, 2975, 489, 760, 594, 2099, 792, 1999, 399, 1317, 3600, 699, 679, 615, 1799, 820, 2265, 406, 6996, 599, 579, 524, 524, 1437, 559, 539, 499, 999, 949, 2209, 625, 999, 2792, 699, 879, 854, 1199, 1199, 399, 789, 998, 1199, 1299, 735, 1121, 680, 699, 1299, 1328, 3184, 749, 804, 699, 359, 5224, 629, 1099, 1999, 3399, 449, 449, 2514, 524, 509, 1099, 1918, 990, 1979, 1319, 499, 404, 1048, 314, 1049, 524, 1099, 598, 3499, 2999, 999, 1999, 3989, 719, 1999, 1995, 699, 799, 2245, 720, 1599, 1099, 679, 1499, 845, 798, 550, 907, 1319, 539, 629, 629, 352, 1399, 719, 720, 4299, 1299, 919, 1299, 799, 799, 947, 6880, 699, 599, 2749, 623, 869, 580, 569, 399, 479, 499, 699, 1099, 359, 1999, 1298, 629, 449, 799, 988, 607, 629, 699, 569, 719, 849, 584, 999, 1319, 486, 489, 663, 1099, 979, 1599, 879, 699, 779, 995, 2560, 1249, 607, 899, 432, 699, 749, 735, 539, 998, 799, 719, 725, 569, 799, 699, 1299, 449, 449, 839, 759, 1497, 1649, 549, 659, 1999, 1239, 1034, 2299, 1301, 919, 879, 728, 2519, 359, 519, 1799, 471, 2699, 719, 591, 629, 629, 314, 701, 1995, 675, 404, 2639, 1099, 1224, 1299, 519, 699, 903, 629, 393, 1224, 629, 959, 2880, 748, 9720, 610, 1099, 999, 739, 2495, 549, 1223, 704, 491, 919, 699, 404, 629, 550, 979, 699, 460, 4274, 699, 724, 699, 699, 519, 1699, 985, 449, 719, 479, 1396, 539, 1049, 999, 1118, 1999, 699, 699, 919, 674, 599, 719, 559, 944, 2399, 999, 629, 779, 879, 712, 1359, 719, 4399, 1603, 1249, 699, 629, 2080, 799, 1599, 839, 1999, 1209, 799, 699, 1212, 1299, 779, 1139, 719, 584, 699, 314, 512, 759, 279, 1749, 629, 1224, 899, 919, 287, 1055, 1099, 759, 699, 1299, 879, 478, 1363, 1299, 1299, 719, 699, 2290, 934, 1226, 1099, 999, 1599, 869, 2499, 685, 1299, 343, 1999, 1299, 404, 1999, 1497, 897, 513, 899, 674, 719, 1999, 449, 689, 1159, 359, 1159, 1396, 3243, 432, 359, 719, 699, 899, 539, 1999, 990, 499, 470, 359, 749, 359, 314, 944, 699, 1299, 1999, 352, 404, 449, 2785, 1299, 683, 1599, 1999, 479, 828, 924, 1319, 699, 859, 314, 945, 460, 839, 924, 629, 329, 699, 824, 1499, 699, 420, 799, 1399, 359, 899, 742, 699, 699, 779, 1039, 699, 1999, 683, 759, 1999, 1149, 1199, 699, 979, 404, 427, 519, 1299, 404, 699, 2495, 399, 824, 1319, 1499, 699, 569, 449, 924, 598, 1466, 414, 519, 683, 199, 1055, 404, 1999, 1599, 1999, 1599, 759, 699, 674, 629, 594, 919, 3849, 1599, 759, 699, 480, 699, 1099, 594, 275, 509, 449, 5224, 919, 999, 629, 1279, 495, 919, 1159, 879, 919, 1899, 1194, 1504, 1299, 1999, 1299, 919, 1099, 699, 449, 1999, 1149, 1099, 1979, 699, 799, 1294, 979, 2362, 811, 1121, 699, 919, 629, 314, 584, 879, 1504, 699, 3120, 659, 2394, 4749, 384, 1159, 683, 699, 1259, 1699, 539, 824, 699, 449, 859, 494, 559, 1574, 524, 460, 509, 799, 2819, 742, 449, 859, 1299, 404, 679, 465, 699, 719, 460, 404, 699, 500, 854, 811, 629, 660, 699, 919, 919, 879, 989, 629, 385, 1314, 470, 1199, 479, 1349, 995, 699, 659, 356, 1299, 404, 950, 1999, 1239, 1999, 720, 1295, 699, 560, 824, 1049, 449, 1980, 721, 879, 879, 1099, 569, 839, 879, 649, 699, 1099, 499, 599, 314, 699, 959, 3299, 699, 799, 1189, 699, 1149, 699, 594, 699, 949, 1299, 1299, 1299, 1299, 1099, 699, 839, 2699, 1999, 314, 879, 679, 1099, 4580, 1023, 1199, 404, 594, 499, 479, 998, 1749, 919, 629, 1299, 509, 404, 1099, 909, 699, 1999, 1199, 919, 663, 699, 699, 1099, 449, 1599, 879, 1359, 599, 1999, 863, 1501, 404, 399, 699, 699, 1259, 584, 999, 679, 509, 516, 1124, 500, 1223, 854, 359, 719, 699, 629, 3599, 1673, 1599, 719, 899, 359, 384, 1299, 420, 699, 519, 594, 699, 584, 699, 1399, 879, 1599, 629, 449, 492, 747, 1048, 2699, 903, 4749, 1199, 414, 599, 4199, 1039, 1220, 472, 699, 629, 594, 1223, 883, 699, 1760, 1299, 979, 1189, 699, 629, 4399, 699, 902, 399, 1249, 2495, 372, 2785, 1139, 584, 1034, 699, 1259, 699, 809, 699, 486, 279, 599, 877, 412, 1519, 404, 539, 499, 699, 799, 479, 699, 859, 519, 404, 739, 699, 699, 4399, 699, 1299, 899, 1363, 539, 1049, 699, 799, 1999, 509, 919, 1299, 699, 1399, 449, 1999, 472, 2099, 879, 1139, 1979, 1999, 683, 923, 2065, 1299, 699, 749, 1399, 4699, 699, 959, 944, 699, 1329, 1439, 1999, 1299, 539, 1299, 452, 314, 364, 2699, 919, 699, 799, 759, 527, 395, 3849, 699, 919, 2785, 399, 479, 594, 699, 759, 1294, 699, 699, 1924, 999, 539, 971, 3999, 877, 666, 1574, 739, 479, 699, 1299, 740, 1497, 1199, 314, 499, 629, 1599, 1999, 1699, 1999, 1079, 857, 1169, 699, 699, 449, 279, 629, 919, 599, 1999, 579, 797, 372, 699, 1999, 719, 1299, 4199, 1298, 899, 1504, 1199, 559, 449, 349, 1999, 719, 539, 679, 779, 1124, 1699, 519, 1279, 699, 797, 1440, 509, 599, 1124, 275, 599, 3024, 519, 599, 1099, 1209, 755, 779, 1149, 669, 680, 619, 1497, 404, 549, 699, 1304, 674, 1299, 699, 759, 824, 2749, 899, 979, 1301, 1699, 699, 509, 879, 494, 1223, 472, 999, 699, 824, 4274, 1499, 699, 1299, 1299, 1299, 472, 314, 699, 1159, 1291, 1999, 2065, 4399, 569, 1899, 1294, 2699, 499, 499, 688, 524, 524, 1199, 719, 549, 1999, 1749, 584, 594, 1457, 719, 671, 659, 399, 679, 519, 399, 899, 919, 749, 519, 1999, 539, 5509, 623, 448, 719, 1999, 1159, 1299, 599, 623, 407, 1299, 699, 1999, 629, 479, 1259, 239, 1319, 699, 703, 509, 699, 699, 699, 2199, 427, 629, 699, 629, 524, 629, 399, 1199, 1299, 699, 649, 549, 513, 919, 699, 699, 1396, 380, 629, 449, 3499, 1299, 3999, 659, 1123, 399, 629, 979, 629, 399, 1149, 699, 449, 854, 919, 839, 1699, 452, 659, 3243, 328, 1299, 404, 699, 556, 607, 630, 399, 699, 1299, 999, 1299, 699, 1099, 911, 1399, 482, 1999, 399, 683, 404, 799, 371, 3497, 2474, 1759, 989, 719, 899, 799, 431, 1999, 1299, 509, 649, 1079, 1839, 1999, 719, 1429, 1249, 926, 539, 629, 989, 559, 472, 699, 449, 1149, 584, 649, 500, 1249, 989, 559, 1034, 1031, 2924, 1299, 629, 2974, 671, 584, 809, 3403, 674, 1999, 1199, 1759, 674, 362, 675, 472, 699, 1214, 557, 1574, 1999, 764, 699, 2274, 1079, 930, 1999, 584, 857, 3599, 699, 674, 699, 3999, 1999, 2699, 1124, 449, 1124, 719, 1839, 1919, 871, 1147, 419, 1299, 599, 1169, 674, 464, 1299, 849, 3249, 2999, 679, 939, 629, 475, 244, 3149, 1034, 1839, 674, 647, 3499, 2149, 563, 1999, 449, 989, 944, 404, 671, 1299, 399, 679, 2749, 989, 449, 547, 4590, 999, 957, 1079, 1899, 674, 629, 1299, 1149, 1034, 1147, 899, 1919, 679, 799, 629, 584, 464, 1839, 584, 679, 944, 2399, 584, 764, 902, 449, 1349, 949, 2649, 674, 674, 1099, 1079, 944, 1999, 559, 959, 1149, 519, 674, 1259, 1959, 524, 1759, 494, 639, 1034, 599, 674, 679, 1034, 1999, 674, 519, 1124, 1999, 944, 674, 1649, 2999, 629, 557, 274, 674, 699, 599, 1759, 2921, 1399, 989, 1124, 2159, 418, 1034, 584, 629, 464, 563, 599, 464, 2974, 599, 671, 674, 989, 1149, 2399, 1299, 699, 505, 1034, 989, 472, 539, 549, 749, 1559, 1147, 719, 2333, 1919, 584, 507, 640, 499, 674, 764, 944, 3590, 674, 2149, 1444, 857, 699, 1149, 674, 584, 584, 3849, 649, 3249, 629, 899, 671, 719, 699, 1099, 3249, 584, 674, 524, 1609, 1034, 639, 599, 539, 1189, 1124, 559, 599, 394, 554, 831, 1899, 699, 1999, 1199, 449, 919, 1999, 764, 674, 1609, 629, 584, 674, 1299, 1999, 630, 559, 674, 464, 1124, 719, 674, 468, 554, 1749, 1155, 1599, 2519, 1299, 795, 749, 1679, 1839, 1214, 779, 674, 1099, 1899, 584, 1099, 649, 2749, 1124, 1214, 674, 3574, 1999, 3574, 1679, 479, 449, 599, 1349, 1149, 1299, 674, 1209, 1299, 899, 584, 472, 599, 466, 1349, 1031, 2399, 1079, 719, 629, 1196, 547, 279, 899, 854, 899, 404, 980, 2974, 1196, 1099, 630, 584, 1399, 449, 671, 719, 8449, 1299, 584, 431, 1249, 464, 1956, 557, 899, 559, 1034, 879, 764, 573, 1079, 854, 399, 1399, 2399, 466, 1999, 4499, 3295, 1034, 584, 599, 1259, 477, 404, 699, 2449, 584, 2399, 1149, 1999, 2499, 584, 569, 1023, 764, 679, 404, 1494, 1759, 562, 1099, 899, 559, 584, 674, 2099, 674, 1839, 764, 629, 699, 902, 1274, 539, 391, 839, 1259, 1259, 719, 647, 507, 472, 584, 1919, 679, 2299, 1214, 1259, 1112, 512, 519, 1124, 1609, 569, 1259, 674, 1499, 562, 764, 1124, 849, 674, 2274, 919, 719, 647, 512, 512, 629, 719, 959, 1469, 464, 449, 629, 599, 1214, 559, 764, 1799, 449, 599, 999, 1839, 629, 1319, 1839, 1599, 849, 2749, 559, 405, 1249, 449, 1799, 629, 279, 674, 599, 719, 512, 1759, 438, 873, 1999, 539, 649, 1149, 629, 1899, 679, 1999, 494, 539, 620, 902, 599, 699, 539, 719, 699, 1999, 944, 674, 719, 554, 1299, 1124, 466, 1439, 5015, 584, 764, 1079, 1249, 584, 699, 1619, 674, 584, 1791, 1149, 472, 539, 944, 719, 1124, 674, 1124, 629, 423, 499, 3249, 2099, 519, 674, 1124, 764, 1999, 944, 629, 494, 472, 599, 539, 559, 1249, 674, 1999, 1149, 719, 1499, 599, 567, 584, 2999, 563, 1899, 539, 944, 797, 1999, 759, 674, 1759, 719, 1143, 1599, 1034, 671, 879, 1124, 999, 469, 989, 649, 699, 554, 1124, 764, 599, 629, 1299, 1079, 779, 3249, 919, 719, 1899, 454, 674, 509, 1124, 1147, 1049, 519, 1999, 547, 719, 547, 745, 1990, 1147, 799, 1259, 1899, 719, 1644, 567, 599, 899, 629, 629, 719, 900, 584, 477, 539, 584, 674, 599, 2999, 1999, 1749, 1079, 2490, 699, 404, 417, 244, 1399, 1034, 719, 1494, 719, 1299, 674, 854, 472, 1999, 944, 749, 1319, 2974, 629, 1679, 630, 1249, 699, 1790, 449, 587, 539, 1214, 500, 629, 1214, 1147, 587, 2749, 449, 899, 899, 4250, 1124, 469, 679, 599, 404, 3499, 674, 1299, 1759, 449, 2274, 719, 899, 449, 1839, 599, 2924, 472, 674, 560, 989, 2099, 674, 539, 845, 839, 699, 749, 3574, 719, 671, 1719, 1839, 1299, 404, 4949, 3899, 674, 1889, 989, 2399, 629, 584, 584, 599, 899, 584, 699, 1609, 1124, 1214, 647, 919, 699, 599, 1147, 989, 1124, 719, 1429, 674, 647, 879, 519, 359, 1499, 464, 1299, 674, 764, 6999, 944, 647, 1079, 464, 1749, 1034, 1196, 1034, 1599, 2274, 464, 809, 1990, 1959, 1079, 1499, 539, 674, 449, 385, 554, 1999, 559, 674, 1919, 879, 3249, 674, 674, 1999, 584, 2299, 1124, 584, 629, 464, 584, 1124, 839, 899, 6299, 559, 500, 473, 802, 699, 837, 899, 8449, 1124, 944, 1259, 944, 1999, 539, 559, 976, 699, 599, 699, 1175, 5655, 674, 719, 944, 719, 1079, 599, 1399, 559, 449, 539, 1196, 594, 699, 2399, 647, 854, 944, 519, 3024, 1124, 815, 3999, 1099, 539, 1199, 1079, 584, 999, 1599, 599, 464, 449, 999, 449, 645, 799, 1999, 464, 404, 699, 899, 314, 629, 464, 699, 674, 3299, 599, 719, 699, 517, 449, 699, 899, 952, 989, 569, 1899, 1999, 1999, 699, 1495, 1959, 567, 699, 674, 464, 1079, 647, 674, 563, 1149, 1615, 1299, 1149, 764, 1839, 944, 2151, 596, 1249, 699, 671, 699, 674, 464, 1399, 1294, 719, 2029, 547, 1143, 714, 1299, 554, 647, 1143, 554, 1999, 674, 1299, 639, 479, 629, 639, 647, 1379, 944, 980, 647, 404, 699, 1999, 464, 3999, 1299, 1679, 719, 1143, 405, 449, 906, 629, 1149, 1759, 549, 674, 1124, 699, 1444, 674, 1990, 2499, 944, 1299, 2749, 557, 466, 1149, 500, 879, 719, 1149, 1124, 599, 1299, 630, 764, 944, 647, 629, 674, 563, 1031, 764, 1759, 464, 1249, 1799, 764, 549, 1149, 4476, 584, 2399, 539, 449, 404, 630, 244, 1299, 649, 8225, 584, 671, 1999, 1099, 629, 876, 699, 1147, 674, 539, 2535, 1147, 899, 630, 5595, 674, 1039, 1919, 699, 674, 1049, 902, 500, 1079, 1619, 559, 1274, 674, 999, 1034, 1011, 854, 2239, 1394, 719, 799, 999, 519, 1249, 6749, 944, 2069, 989, 854, 786, 854, 989, 1079, 749, 1049, 3118, 1169, 1799, 3749, 773, 854, 1124, 2474, 899, 831, 944, 944, 1169, 989, 4099, 959, 1034, 989, 1540, 899, 2449, 803, 1679, 797, 854, 1664, 719, 1819, 899, 989, 679, 839, 692, 1034, 849, 1299, 2999, 5458, 699, 649, 881, 679, 899, 1349, 1079, 959, 989, 1799, 2239, 2999, 1299, 839, 6250, 1299, 919, 919, 2099, 1079, 749, 1227, 449, 399, 1248, 1299, 839, 919, 989, 1490, 1999, 1414, 4579, 989, 1349, 1849, 1034, 2239, 1299, 2239, 584, 879, 584, 1490, 749, 1299, 1034, 854, 839, 1999, 1034, 2599, 749, 1034, 1299, 499, 399, 989, 649, 1034, 1304, 1124, 519, 1329, 1399, 734, 719, 2495, 944, 839, 1299, 1034, 1749, 1490, 599, 1034, 919, 499, 989, 1259, 1484, 899, 1959, 899, 947, 799, 499, 1799, 399, 944, 1304, 989, 899, 1619, 1034, 699, 541, 2239, 799, 2299, 1034, 1490, 1374, 698, 2069, 1799, 2699, 899, 1199, 919, 2239, 2208, 549, 679, 1034, 799, 719, 974, 1999, 989, 944, 453, 1048, 1979, 1299, 1494, 809, 899, 949, 1158, 1124, 899, 2239, 594, 1220, 1214, 549, 2404, 854, 1124, 839, 989, 854, 1159, 1249, 839, 1304, 944, 2144, 1034, 539, 1034, 629, 583, 881, 797, 1199, 989, 1124, 989, 1049, 1159, 1034, 1499, 4099, 797, 849, 3118, 424, 1034, 852, 850, 1644, 835, 944, 1259, 1304, 944, 2295, 1048, 944, 936, 989, 610, 499, 1175, 1311, 2239, 899, 849, 999, 944, 749, 649, 479, 849, 944, 999, 1034, 539, 899, 849, 839, 989, 1499, 1048, 944, 797, 499, 1034, 599, 989, 1169, 758, 899, 854, 471, 7148, 1169, 749, 804, 944, 1299, 989, 539, 899, 1679, 4580, 499, 1304, 1048, 944, 699, 2540, 899, 786, 758, 791, 854, 1204, 989, 1169, 989, 1084, 2099, 852, 799, 1299, 2499, 2699, 2999, 944, 1624, 3500, 6610, 399, 879, 1499, 5160, 764, 549, 519, 899, 2999, 1899, 989, 809, 764, 1299, 2699, 649, 989, 944, 1204, 899, 879, 1124, 627, 1484, 989, 627, 1539, 2114, 839, 936, 891, 804, 1227, 1299, 1034, 1304, 3420, 899, 1049, 891, 1034, 1159, 448, 449, 291, 1299, 1304, 2866, 1690, 1398, 849, 797, 449, 791, 523, 1048, 1999, 1499, 944, 509, 1574, 839, 9748, 9850, 629, 1479, 1299, 919, 1819, 899, 2339, 892, 944, 899, 1549, 2699, 2320, 1079, 1959, 944, 989, 1034, 5120, 749, 1119, 799, 359, 1959, 989, 944, 1799, 1034, 1299, 899, 899, 719, 1199, 1124, 879, 919, 2239, 899, 944, 944, 1649, 1169, 2320, 989, 1124, 2249, 7148, 471, 449, 599, 999, 989, 1300, 1079, 979, 2699, 799, 1048, 699, 1299, 749, 539, 1299, 750, 854, 899, 1160, 1469, 839, 959, 699, 1754, 1710, 944, 2239, 1699, 989, 749, 299, 944, 494, 989, 1034, 809, 899, 1449, 899, 1304, 699, 1299, 649, 3768, 699, 1299, 989, 839, 1248, 1999, 799, 944, 559, 2239, 1034, 500, 679, 1299, 2319, 1299, 1049, 1304, 749, 989, 989, 1574, 1299, 891, 847, 1304, 2239, 781, 494, 2319, 1304, 899, 699, 629, 944, 1011, 539, 1034, 899, 1299, 1999, 827, 944, 4800, 1299, 944, 989, 1250, 3768, 584, 879, 839, 1200, 1034, 852, 1479, 509, 1999, 1204, 999, 899, 1299, 989, 1034, 2010, 1549, 449, 797, 999, 944, 2699, 971, 874, 839, 999, 1349, 852, 891, 2339, 599, 499, 1484, 2540, 499, 944, 944, 1253, 852, 1349, 989, 1124, 1429, 839, 523, 989, 999, 679, 1299, 1414, 944, 1539, 989, 4349, 1124, 6349, 1032, 1034, 879, 1259, 1499, 1299, 556, 989, 1034, 649, 1124, 1299, 449, 1999, 854, 879, 1016, 974, 1079, 891, 374, 330, 1299, 503, 989, 989, 1250, 1299, 5600, 569, 1299, 835, 944, 1304, 797, 1034, 944, 1349, 1079, 569, 919, 1304, 898, 1299, 1299, 9748, 943, 424, 1032, 1158, 1079, 1999, 899, 649, 499, 1214, 989, 989, 944, 1359, 2140, 9499, 1214, 799, 989, 2699, 1400, 1399, 519, 519, 974, 839, 639, 749, 2080, 1249, 899, 1399, 989, 899, 1299, 999, 509, 655, 399, 5749, 1034, 1599, 2999, 1490, 1034, 8399, 1499, 399, 854, 989, 699, 1124, 349, 919, 944, 899, 593, 699, 593, 664, 2699, 519, 348, 499, 1299, 1999, 989, 629, 749, 611, 1999, 1049, 936, 1159, 2209, 919, 999, 1259, 1499, 2100, 899, 749, 854, 1304, 719, 959, 944, 1530, 1304, 1299, 989, 629, 3649, 1394, 1214, 839, 899, 989, 944, 899, 539, 899, 2699, 944, 1299, 1034, 663, 449, 1475, 2144, 3500, 989, 944, 808, 2299, 1799, 539, 2450, 600, 7199, 989, 549, 8448, 944, 479, 9488, 1034, 1034, 797, 9748, 989, 479, 936, 899, 839, 1199, 439, 454, 899, 989, 719, 1034, 1034, 749, 919, 1159, 936, 1299, 797, 688, 849, 989, 1299, 999, 399, 1224, 1299, 359, 839, 519, 319, 944, 5600, 2239, 1034, 944, 944, 1490, 999, 1759, 584, 1253, 525, 1619, 1999, 944, 1299, 1274, 647, 879, 549, 1710, 2299, 944, 759, 1011, 899, 989, 569, 1299, 1249, 1153, 989, 944, 936, 1124, 479, 899, 2399, 439, 2474, 599, 1049, 1530, 499, 1414, 2699, 831, 874, 1034, 6800, 584, 1499, 1499, 584, 3299, 499, 679, 599, 1199, 944, 1124, 539, 838, 989, 1299, 919, 549, 909, 1220, 8188, 919, 2199, 2239, 399, 2239, 1034, 839, 1038, 849, 881, 593, 944, 1299, 944, 999, 942, 1034, 1304, 3299, 1420, 3768, 2029, 944, 689, 809, 927, 944, 1304, 947, 830, 1217, 989, 584, 1349, 1158, 839, 1034, 699, 944, 1034, 1959, 989, 1124, 989, 2010, 1034, 944, 1169, 1594, 2474, 372, 699, 599, 944, 9748, 944, 2408, 899, 839, 489, 1531, 7199, 899, 944, 2239, 989, 1759, 1227, 839, 1034, 899, 2810, 2239, 584, 854, 1102, 1799, 999, 852, 879, 799, 1494, 749, 599, 797, 891, 919, 1034, 1200, 919, 960, 1499, 1034, 1299, 1011, 399, 5890, 1247, 679, 943, 2999, 2450, 1034, 1199, 599, 629, 649, 749, 1034, 949, 1362, 1299, 1499, 1299, 1295, 593, 399, 944, 839, 527, 7148, 1034, 399, 1615, 1439, 1919, 422, 799, 1299, 679, 632, 749, 1049, 655, 2274, 499, 399, 1249, 449, 679, 1349, 479, 419, 1199, 999, 799, 1014, 489, 389, 804, 2599, 559, 759, 4199, 2399, 499, 999, 4559, 1299, 1199, 549, 4599, 1624, 1319, 4799, 1299, 1299, 1999, 2144, 1299, 1439, 1299, 949, 599, 455, 699, 449, 549, 4115, 3299, 399, 1259, 2799, 979, 519, 879, 649, 2250, 1299, 655, 479, 639, 799, 799, 959, 979, 1399, 719, 3799, 1299, 1140, 712, 854, 539, 699, 1606, 1499, 1299, 1615, 4999, 3099, 899, 549, 454, 1479, 1999, 1999, 664, 599, 607, 349, 779, 1839, 1679, 499, 3039, 2794, 593, 491, 774, 674, 240, 999, 839, 799, 449, 859, 699, 799, 359, 607, 1999, 2999, 349, 1819, 359, 1124, 999, 1436, 499, 2879, 399, 899, 519, 349, 999, 4799, 919, 1999, 1899, 4599, 519, 2294, 5140, 1999, 799, 799, 1199, 399, 4981, 699, 1705, 1299, 839, 599, 499, 3000, 4558, 415, 4799, 359, 1999, 749, 1999, 2799, 655, 1480, 1149, 359, 527, 1439, 2799, 1199, 1439, 519, 1999, 699, 524, 479, 559, 479, 519, 419, 1439, 4299, 539, 597, 699, 1319, 1479, 539, 1705, 589, 449, 879, 571, 4981, 599, 559, 1999, 571, 999, 367, 1119, 2249, 455, 1399, 804, 419, 3299, 1599, 1399, 749, 519, 1299, 404, 1149, 1999, 479, 703, 979, 649, 699, 2999, 664, 959, 719, 1999, 1999, 1139, 839, 539, 479, 1299, 539, 649, 1084, 1080, 999, 1439, 649, 674, 599, 584, 449, 999, 1999, 523, 1364, 359, 1999, 1999, 649, 4999, 839, 3599, 1819, 479, 489, 1399, 799, 1049, 899, 799, 649, 8104, 1279, 599, 412, 699, 923, 479, 699, 1999, 399, 549, 1999, 990, 919, 1028, 524, 799, 999, 3000, 479, 844, 699, 959, 1319, 499, 879, 359, 1615, 979, 1039, 2399, 1099, 224, 324, 589, 1599, 2114, 1299, 1999, 499, 3999, 699, 2400, 749, 4999, 4559, 5140, 759, 1999, 599, 1319, 1199, 1199, 699, 679, 499, 929, 1249, 2036, 664, 3899, 1799, 4999, 999, 1259, 674, 1749, 1249, 599, 649, 999, 749, 454, 1189, 1439, 1079, 699, 699, 999, 1799, 649, 1028, 699, 439, 839, 1349, 1439, 759, 1299, 505, 1299, 699, 679, 3989, 779, 699, 629, 1999, 499, 999, 419, 649, 599, 1189, 4559, 2999, 1999, 597, 2327, 324, 1149, 1480, 559, 1494, 597, 549, 1349, 999, 679, 799, 349, 979, 2579, 699, 2924, 2812, 699, 324, 879, 1169, 519, 1299, 2449, 2899, 3699, 1399, 599, 499, 1399, 1046, 1399, 949, 419, 5052, 979, 1299, 719, 1279, 474, 359, 779, 519, 519, 799, 1084, 1399, 1479, 2499, 349, 749, 2159, 1199, 699, 893, 1803, 899, 593, 2039, 1749, 599, 999, 2759, 1889, 2255, 844, 1299, 4655, 499, 2384, 1714, 2199, 867, 2599, 839, 636, 584, 1299, 539, 1299, 1379, 679, 839, 734, 584, 1899, 1979, 1199, 759, 8104, 2794, 599, 1299, 3299, 3299, 519, 1299, 599, 1627, 1299, 1599, 1429, 1439, 989, 749, 324, 499, 1299, 3849, 499, 1839, 1999, 699, 599, 749, 399, 1199, 1439, 419, 4559, 549, 879, 899, 1084, 1689, 1749, 1499, 454, 1999, 4115, 1999, 2796, 849, 3599, 454, 384, 1349, 2879, 499, 539, 5375, 1559, 1319, 779, 999, 3879, 2250, 4999, 1599, 2384, 1719, 1249, 2144, 999, 599, 479, 909, 599, 759, 2999, 1539, 1299, 4559, 479, 679, 2250, 839, 1439, 703, 1259, 4199, 979, 899, 1149, 949, 1429, 1124, 1979, 419, 3199, 1299, 879, 1899, 1299, 447, 759, 1299, 1379, 599, 571, 1999, 629, 2299, 1615, 1259, 1839, 2199, 519, 1019, 1999, 479, 1979, 779, 1539, 584, 839, 719, 324, 1259, 1319, 1259, 1615, 799, 979, 404, 1839, 1399, 764, 1299, 599, 1839, 503, 1499, 893, 1719, 799, 1299, 2399, 1199, 1099, 879, 649, 527, 615, 899, 1028, 999, 1149, 509, 892, 854, 799, 1999, 849, 589, 359, 629, 919, 399, 524, 479, 899, 2794, 1049, 699, 2279, 449, 584, 1299, 799, 1299, 519, 479, 1039, 4558, 1299, 659, 404, 2999, 1049, 1299, 2759, 1199, 1999, 319, 679, 1999, 329, 1439, 1379, 559, 1214, 599, 4409, 1999, 799, 599, 799, 599, 549, 1559, 911, 892, 594, 2399, 449, 899, 2799, 944, 1999, 2036, 1999, 3383, 949, 899, 679, 1199, 799, 679, 2219, 999, 2624, 2999, 1519, 249, 1519, 699, 1299, 454, 1299, 1599, 699, 1017, 449, 615, 1139, 879, 584, 759, 990, 1519, 239, 4999, 879, 549, 307, 999, 449, 1199, 2599, 249, 999, 1249, 2199, 1439, 3999, 1299, 571, 1299, 615, 799, 1559, 629, 615, 944, 799, 1140, 959, 359, 879, 1495, 1819, 659, 4115, 1839, 1187, 499, 1999, 1899, 1480, 2999, 4199, 1239, 873, 3490, 599, 2239, 524, 1599, 1839, 454, 4999, 828, 597, 1439, 1429, 1839, 1664, 899, 999, 4999, 1099, 4409, 1999, 919, 1359, 749, 1615, 1299, 584, 1599, 3383, 399, 449, 799, 1999, 391, 479, 1199, 449, 1079, 799, 899, 1999, 584, 1499, 4409, 3999, 3000, 1619, 1999, 1999, 1199, 849, 3999, 659, 759, 759, 599, 1749, 1999, 893, 1999, 1299, 1299, 849, 679, 615, 599, 839, 1999, 1999, 1699, 524, 505, 1879, 699, 1705, 1199, 3599, 1015, 1217, 519, 895, 1679, 599, 499, 854, 2400, 1319, 649, 999, 599, 2384, 1396, 1799, 4199, 779, 1539, 699, 519, 594, 1999, 649, 979, 2599, 1879, 499, 1299, 589, 559, 1299, 1439, 1299, 1592, 649, 1539, 899, 1499, 599, 1046, 593, 1399, 527, 349, 699, 499, 1559, 759, 1559, 1299, 699, 799, 2399, 399, 659, 879, 397, 649, 799, 1349, 899, 3299, 1259, 1999, 986, 599, 1599, 1140, 699, 1999, 591, 4999, 3499, 1439, 809, 679, 999, 399, 1299, 599, 1999, 879, 919, 1119, 1864, 139, 999, 1919, 519, 999, 519, 1480, 559, 1999, 1609, 1125, 1399, 1249, 879, 699, 839, 999, 519, 454, 314, 649, 1319, 549, 859, 1299, 1999, 890, 690, 749, 799, 649, 1199, 719, 649, 877, 839, 1679, 1299, 549, 239, 319, 1349, 4599, 1999, 1979, 1999, 1299, 599, 3999, 549, 909, 1079, 1999, 1299, 2299, 919, 1719, 719, 1999, 974, 519, 2399, 2699, 699, 599, 524, 1499, 849, 329, 584, 873, 3383, 584, 1199, 759, 499, 1199, 584, 1199, 584, 679, 719, 944, 999, 1399, 932, 674, 599, 799, 2249, 389, 1259, 1399, 1124, 599, 2499, 489, 989, 380, 559, 1499, 809, 759, 1149, 1099, 489, 539, 899, 279, 999, 629, 599, 902, 942, 1268, 1247, 1259, 549, 439, 1299, 347, 422, 999, 629, 759, 1199, 1999, 1249, 1099, 1004, 1749, 1749, 2067, 1149, 449, 559, 9033, 863, 1247, 1470, 822, 4999, 274, 559, 1497, 1028, 999, 899, 999, 2799, 1499, 645, 999, 362, 2799, 545, 1039, 2294, 1099, 863, 1525, 1499, 537, 324, 600, 849, 299, 7317, 1119, 997, 443, 1119, 1499, 5990, 545, 719, 1499, 599, 449, 1031, 1999, 999, 464, 449, 1999, 519, 2499, 450, 449, 674, 679, 1017, 1499, 979, 671, 1399, 974, 2379, 499, 1299, 363, 799, 943, 919, 1599, 997, 1497, 599, 734, 2067, 2374, 949, 1119, 539, 600, 899, 1299, 519, 499, 559, 679, 1119, 799, 599, 7933, 899, 629, 899, 1599, 1199, 449, 1799, 507, 972, 2999, 1126, 1899, 1299, 679, 1299, 1259, 799, 384, 4990, 779, 809, 569, 849, 1999, 6999, 2899, 2249, 5944, 1439, 639, 599, 443, 1299, 1499, 783, 2999, 1999, 324, 1199, 1499, 1273, 1099, 2081, 489, 422, 2999, 749, 804, 1599, 1599, 450, 1329, 8685, 652, 1079, 1119, 1960, 699, 815, 1119, 930, 1999, 1839, 1583, 1745, 899, 764, 5990, 999, 1245, 1363, 866, 2096, 740, 764, 1299, 959, 799, 6500, 347, 503, 5046, 399, 449, 629, 899, 450, 1034, 1139, 599, 1200, 899, 974, 1497, 1749, 884, 554, 679, 999, 674, 2938, 874, 4400, 899, 599, 443, 1836, 1299, 5669, 959, 1319, 1004, 1199, 999, 509, 1199, 759, 974, 454, 1949, 539, 499, 679, 499, 1199, 1015, 1803, 559, 2499, 359, 537, 599, 1124, 519, 664, 1166, 450, 1199, 4480, 1749, 674, 1299, 517, 531, 1234, 599, 767, 545, 779, 1299, 545, 2499, 5490, 6899, 1999, 1247, 999, 5847, 389, 799, 689, 671, 324, 1239, 1899, 2249, 1749, 764, 1299, 1149, 749, 2294, 1420, 749, 974, 1120, 385, 1245, 1299, 545, 500, 1373, 719, 1104, 679, 674, 2299, 899, 1126, 779, 1799, 2699, 1299, 545, 629, 1624, 545, 549, 2469, 649, 749, 1949, 699, 1299, 659, 1299, 350, 1999, 1019, 2067, 499, 1494, 1004, 1119, 1699, 2499, 1497, 557, 1074, 999, 1799, 1119, 824, 2199, 599, 1160, 599, 4490, 524, 902, 1609, 2067, 679, 951, 899, 1689, 1299, 1689, 602, 799, 779, 679, 1624, 639, 694, 1186, 359, 999, 1494, 679, 419, 749, 499, 1199, 347, 531, 549, 877, 989, 999, 949, 899, 1999, 209, 450, 2039, 1599, 600, 1497, 799, 1889, 660, 1167, 599, 1109, 1149, 4999, 999, 384, 449, 899, 957, 699, 599, 2399, 1499, 2299, 4599, 899, 799, 839, 477, 679, 749, 999, 450, 4990, 6490, 3149, 674, 347, 599, 849, 350, 1124, 1200, 1299, 949, 399, 759, 420, 799, 844, 799, 899, 1399, 1024, 347, 919, 350, 579, 1243, 1999, 1799, 322, 699, 1803, 1699, 679, 1064, 602, 1126, 1259, 1624, 1799, 1803, 734, 443, 679, 629, 459, 512, 5807, 479, 549, 454, 1999, 594, 549, 999, 679, 1624, 1097, 449, 449, 1299, 899, 559, 979, 694, 999, 2099, 1199, 679, 839, 679, 449, 679, 599, 2599, 319, 1494, 1143, 1333, 3519, 679, 719, 550, 749, 899, 1999, 569, 1259, 599, 479, 999, 1151, 1399, 519, 419, 679, 419, 629, 1247, 1319, 389, 1102, 1259, 545, 594, 599, 1999, 849, 4130, 1243, 1199, 2299, 798, 2999, 1624, 1999, 1079, 362, 2799, 1499, 1494, 719, 599, 679, 1199, 1299, 347, 1619, 1399, 1759, 7469, 274, 359, 799, 399, 1019, 759, 895, 974, 763, 1299, 759, 999, 362, 5975, 779, 2294, 2759, 519, 1149, 4599, 911, 974, 694, 849, 1559, 449, 1799, 719, 764, 899, 974, 1299, 679, 764, 8001, 499, 899, 1699, 1359, 1299, 550, 1799, 989, 999, 1899, 999, 599, 584, 849, 450, 1119, 559, 539, 449, 4999, 472, 1919, 1497, 349, 1329, 1839, 1126, 347, 2399, 629, 749, 899, 1299, 537, 1497, 599, 831, 2999, 694, 359, 749, 1379, 949, 489, 1175, 389, 5875, 719, 384, 1299, 1247, 902, 1999, 699, 1199, 599, 1474, 999, 1004, 749, 479, 599, 629, 599, 895, 2299, 489, 1499, 479, 599, 1299, 1497, 789, 584, 1471, 2999, 350, 1249, 1499, 6490, 450, 8151, 1499, 1247, 579, 949, 1499, 1200, 443, 674, 919, 1497, 347, 989, 1143, 545, 874, 479, 556, 671, 449, 679, 399, 2799, 1149, 879, 1439, 1499, 1497, 949, 1299, 1224, 899, 315, 999, 629, 476, 1499, 919, 3599, 759, 1346, 1224, 560, 849, 1224, 629, 902, 759, 2499, 6990, 599, 749, 439, 679, 1139, 1497, 899, 4999, 559, 1497, 767, 2727, 1999, 450, 3999, 999, 1439, 1999, 999, 664, 1471, 699, 1234, 734, 324, 1497, 1329, 5500, 979, 1299, 594, 545, 636, 779, 1299, 1441, 274, 1175, 639, 1378, 899, 679, 759, 450, 799, 949, 391, 809, 719, 999, 902, 1199, 749, 1299, 759, 1149, 779, 4799, 299, 899, 1803, 599, 479, 1554, 854, 759, 545, 1299, 2499, 1999, 989, 695, 949, 599, 629, 979, 1124, 999, 1497, 479, 1120, 599, 1077, 1839, 699, 1229, 944, 362, 902, 1624, 477, 2299, 874, 959, 1799, 443, 919, 550, 1999, 989, 734, 3899, 559, 1149, 1999, 389, 899, 4200, 679, 531, 1399, 874, 999, 930, 719, 799, 679, 1299, 3599, 951, 2294, 719, 1259, 998, 4439, 1154, 3990, 1299, 879, 2799, 872, 539, 1299, 1359, 1999, 545, 1139, 359, 997, 899, 1155, 1624, 679, 629, 1618, 849, 1224, 999, 3899, 629, 1247, 519, 799, 2499, 1049, 779, 1371, 1247, 1299, 1499, 559, 629, 3599, 459, 749, 4999, 545, 1949, 1139, 749, 735, 519, 859, 1620, 599, 999, 3499, 479, 949, 679, 999, 2639, 899, 1329, 1049, 974, 347, 459, 599, 1803, 1224, 545, 899, 324, 949, 545, 967, 599, 1619, 1859, 1899, 2204, 4581, 499, 1299, 1109, 594, 767, 639, 450, 1591, 1299, 545, 799, 2519, 799, 554, 1599, 838, 919, 679, 524, 2039, 849, 545, 549, 499, 459, 689, 1224, 1119, 4203, 1149, 455, 1759, 1208, 1439, 1474, 2499, 450, 545, 1999, 799, 524, 911, 1199, 1329, 622, 1245, 679, 1799, 599, 629, 559, 999, 779, 2099, 849, 1299, 804, 599, 594, 1499, 699, 1699, 1999, 5299, 612, 693, 995, 649, 540, 599, 999, 629, 2199, 594, 959, 989, 699, 539, 1499, 1299, 299, 1139, 3499, 545, 2449, 1499, 944, 5999, 699, 1349, 909, 1249, 749, 1049, 636, 519, 949, 1849, 1499, 699, 699, 1499, 699, 909, 839, 4197, 599, 1499, 990, 995, 499, 899, 730, 449, 699, 449, 1139, 559, 4690, 1999, 399, 1160, 359, 854, 1649, 316, 962, 545, 749, 1359, 4049, 1499, 2299, 719, 1664, 2503, 699, 540, 1769, 1175, 1999, 949, 699, 949, 449, 749, 2799, 849, 2449, 540, 930, 699, 1999, 629, 699, 629, 664, 1289, 1119, 8099, 2299, 612, 849, 3149, 1666, 594, 849, 636, 1649, 4599, 499, 809, 840, 1624, 629, 524, 899, 699, 2589, 1689, 699, 599, 1291, 949, 499, 2599, 499, 1499, 2099, 899, 649, 1019, 599, 5399, 1120, 569, 599, 748, 849, 612, 1299, 1149, 629, 449, 949, 730, 1899, 549, 449, 629, 845, 299, 1827, 730, 449, 2099, 849, 699, 799, 1999, 649, 2099, 1299, 1119, 629, 2499, 3429, 499, 1624, 2309, 7090, 1049, 439, 4999, 471, 1799, 449, 479, 909, 649, 1999, 509, 629, 999, 699, 1699, 1299, 599, 559, 1494, 381, 299, 949, 1299, 636, 649, 1299, 1999, 2399, 3249, 699, 7090, 719, 629, 2399, 559, 749, 1349, 999, 2309, 536, 1999, 718, 1079, 5299, 699, 1599, 299, 3999, 730, 649, 299, 1160, 4499, 1999, 359, 449, 449, 699, 649, 479, 1139, 1279, 499, 3009, 779, 2499, 496, 629, 1999, 2449, 699, 612, 1799, 1160, 4799, 629, 999, 1472, 979, 755, 730, 449, 730, 1299, 399, 1799, 1119, 4799, 629, 594, 949, 636, 499, 2299, 1999, 449, 949, 559, 449, 599, 496, 986, 849, 629, 519, 1019, 399, 1799, 449, 599, 699, 899, 499, 989, 8795, 3999, 2589, 995, 2499, 999, 1999, 599, 949, 629, 519, 1799, 594, 559, 3599, 569, 2249, 7690, 962, 999, 649, 849, 521, 1299, 824, 779, 612, 1399, 909, 1119, 509, 433, 749, 540, 629, 2589, 3597, 2029, 3919, 989, 1299, 730, 849, 3899, 799, 629, 2589, 934, 2399, 479, 5399, 779, 2299, 499, 2399, 539, 1999, 2799, 649, 3799, 549, 559, 449, 1299, 995, 1311, 1499, 949, 1499, 749, 799, 1049, 949, 449, 909, 848, 1299, 1299, 629, 949, 652, 1279, 540, 594, 1598, 499, 839, 1598, 629, 1253, 699, 479, 1359, 1049, 1119, 1299, 479, 454, 449, 449, 699, 1199, 449, 449, 519, 799, 949, 612, 849, 699, 749, 499, 1754, 849, 899, 699, 899, 699, 719, 799, 449, 999, 1699, 559, 1299, 1299, 584, 1999, 1259, 299, 359, 869, 4975, 1249, 899, 1599, 899, 441, 1199, 949, 779, 699, 5897, 2287, 479, 629, 1299, 1699, 730, 1499, 949, 849, 1299, 629, 1349, 5999, 629, 844, 499, 909, 479, 899, 2449, 499, 299, 545, 5999, 1739, 316, 1499, 1516, 629, 559, 629, 3004, 897, 594, 462, 849, 2699, 2099, 1499, 649, 503, 599, 1299, 1689, 599, 1484, 779, 718, 699, 699, 1399, 730, 749, 1084, 1499, 2799, 519, 979, 636, 496, 839, 1427, 724, 699, 1160, 828, 629, 791, 1362, 299, 636, 499, 719, 594, 3899, 6375, 699, 1299, 1391, 699, 1199, 599, 594, 631, 718, 1119, 949, 3575, 849, 449, 949, 699, 5999, 7690, 619, 1311, 599, 449, 779, 1799, 779, 899, 699, 4499, 959, 1160, 779, 779, 4599, 9890, 540, 629, 539, 1349, 979, 874, 1049, 539, 519, 2004, 949, 239, 359, 1469, 910, 718, 5999, 612, 649, 447, 1799, 1160, 559, 809, 594, 699, 3149, 1494, 2399, 1299, 629, 503, 1371, 949, 999, 1999, 629, 749, 449, 599, 2598, 1160, 7199, 1359, 699, 1519, 1959, 649, 949, 1799, 629, 439, 1450, 899, 699, 1299, 380, 599, 1253, 2999, 699, 539, 2124, 4249, 1999, 1499, 1249, 730, 3162, 594, 1999, 699, 2799, 849, 1799, 749, 949, 849, 949, 612, 697, 1017, 999, 316, 719, 949, 2999, 1299, 799, 899, 1119, 449, 1249, 1275, 759, 829, 699, 629, 614, 779, 2799, 749, 479, 629, 521, 1019, 484, 4399, 899, 499, 629, 1999, 2299, 629, 962, 489, 545, 1624, 496, 699, 849, 1299, 699, 499, 779, 749, 545, 849, 2099, 1189, 749, 619, 389, 299, 899, 849, 346, 730, 699, 1249, 324, 699, 949, 1299, 545, 699, 584, 629, 1049, 299, 499, 2924, 1519, 3999, 699, 2299, 499, 749, 4500, 344, 1099, 1399, 949, 1453, 849, 545, 2299, 629, 499, 612, 499, 747, 614, 1999, 730, 1739, 719, 612, 615, 1374, 496, 823, 1160, 1499, 962, 849, 1799, 899, 1299, 779, 1095, 2195, 1999, 1004, 539, 1183, 594, 949, 779, 316, 899, 849, 1742, 612, 949, 1499, 1100, 1299, 959, 1999, 839, 909, 713, 1999, 849, 399, 1299, 612, 599, 4499, 999, 849, 909, 549, 584, 2099, 584, 1749, 5499, 1149, 1999, 796, 949, 699, 1439, 4049, 1499, 1999, 874, 1425, 1299, 5299, 949, 699, 779, 854, 3199, 3149, 629, 1999, 1499, 335, 699, 629, 594, 599, 2750, 559, 591, 545, 699, 1799, 5999, 949, 4999, 962, 629, 1119, 629, 806, 1799, 3698, 380, 949, 798, 779, 2449, 999, 536, 1999, 496, 1299, 999, 6999, 1311, 699, 649, 599, 779, 909, 989, 1499, 1200, 2399, 809, 2478, 779, 799, 2939, 1249, 335, 1714, 612, 3698, 755, 649, 1349, 1999, 359, 1019, 6590, 479, 496, 699, 629, 1495, 496, 799, 1499, 496, 1499, 2499, 1499, 688, 1649, 730, 479, 496, 359, 649, 1494, 629, 697, 949, 1299, 629, 823, 779, 2599, 1299, 629, 499, 749, 1183, 699, 962, 1299, 612, 1119, 1379, 699, 1139, 791, 629, 630, 4690, 1785, 636, 499, 1202, 1999, 1149, 1119, 719, 827, 449, 559, 479, 359, 359, 899, 1799, 599, 2799, 449, 949, 1299, 1119, 3899, 1199, 792, 559, 610, 699, 1299, 3699, 6999, 636, 4497, 1999, 3599, 899, 949, 3599, 629, 1359, 599, 999, 545, 799, 1199, 629, 659, 674, 895, 399, 1649, 718, 699, 1149, 649, 1349, 316, 1199, 612, 3824, 698, 909, 849, 1169, 1249, 629, 499, 607, 779, 449, 795, 1119, 2699, 134, 674, 1247, 519, 1899, 736, 1999, 626, 999, 1039, 559, 634, 766, 591, 704, 899, 599, 1399, 1399, 740, 591, 1299, 630, 839, 749, 1299, 1469, 749, 1079, 419, 959, 2249, 976, 1999, 2236, 696, 699, 1379, 1469, 2396, 1299, 404, 599, 1126, 1539, 495, 661, 1149, 1539, 699, 652, 538, 799, 1249, 950, 5499, 1750, 649, 1350, 559, 899, 869, 809, 839, 599, 839, 4312, 799, 644, 1649, 491, 489, 699, 1469, 1399, 489, 249, 744, 719, 699, 696, 1119, 1299, 1299, 2199, 790, 891, 2236, 1999, 749, 999, 713, 441, 1596, 3262, 1399, 1224, 1295, 909, 844, 519, 699, 699, 1299, 519, 449, 2124, 759, 976, 749, 7356, 299, 990, 799, 1124, 839, 359, 599, 1399, 503, 7756, 899, 1439, 584, 4899, 1149, 999, 591, 5600, 1259, 1999, 1249, 599, 449, 1399, 599, 1539, 1999, 1539, 727, 699, 4499, 762, 2316, 1650, 518, 5602, 1439, 1619, 4699, 674, 871, 959, 539, 1149, 591, 1399, 719, 2166, 419, 1539, 629, 499, 5249, 799, 766, 800, 799, 607, 479, 1039, 1749, 299, 591, 1399, 999, 699, 749, 1039, 1299, 1724, 782, 874, 1999, 1516, 1609, 696, 539, 799, 543, 519, 719, 1499, 879, 979, 399, 558, 662, 5499, 696, 699, 749, 1999, 599, 696, 299, 909, 560, 799, 539, 1499, 1499, 999, 474, 1469, 569, 2795, 422, 519, 1299, 909, 479, 999, 4699, 1609, 2499, 1169, 1119, 799, 447, 1329, 1443, 599, 1399, 836, 749, 1499, 799, 2699, 560, 4250, 699, 499, 1299, 1649, 1290, 5175, 1539, 699, 1499, 419, 699, 999, 734, 602, 1124, 899, 2299, 2999, 519, 1980, 674, 599, 762, 844, 2219, 519, 1259, 909, 1326, 5499, 1199, 599, 3815, 719, 899, 1299, 1469, 1299, 699, 4250, 1401, 1399, 299, 2636, 1724, 2699, 999, 560, 906, 1999, 906, 2636, 2219, 1424, 1039, 601, 799, 549, 479, 3712, 1039, 1724, 2699, 1319, 1259, 623, 1539, 674, 616, 209, 1596, 699, 3505, 1259, 495, 1499, 779, 264, 1469, 5499, 1429, 8999, 560, 1046, 2249, 1999, 1299, 1399, 1124, 674, 1799, 1259, 1249, 1299, 1609, 449, 569, 759, 1124, 1429, 626, 799, 560, 3299, 976, 936, 495, 839, 899, 3188, 959, 804, 644, 495, 1119, 584, 1819, 3995, 749, 699, 2396, 749, 1399, 6859, 990, 575, 1469, 1679, 719, 1497, 1999, 1999, 591, 1299, 699, 844, 2396, 1199, 714, 799, 909, 626, 936, 1590, 4800, 539, 797, 1049, 979, 750, 1754, 879, 1329, 2159, 949, 898, 779, 599, 584, 1399, 4250, 594, 616, 584, 2396, 560, 616, 699, 799, 899, 1529, 1169, 1329, 766, 766, 899, 899, 990, 699, 558, 299, 749, 6369, 132, 974, 2449, 1399, 736, 591, 1529, 580, 499, 661, 990, 1999, 1999, 559, 989, 1510, 1469, 1319, 2655, 616, 299, 1469, 1499, 449, 936, 1329, 999, 599, 1399, 1299, 558, 1299, 327, 548, 1799, 626, 616, 800, 540, 447, 2249, 616, 700, 1399, 1020, 699, 1169, 1224, 399, 499, 524, 629, 1299, 2995, 1899, 1299, 6956, 1379, 699, 649, 299, 699, 311, 589, 1499, 1399, 801, 699, 496, 5350, 1565, 1999, 1149, 989, 997, 699, 324, 999, 740, 839, 974, 399, 1259, 649, 359, 489, 999, 285, 1299, 986, 649, 635, 749, 1609, 1319, 976, 479, 1999, 816, 846, 1949, 616, 811, 1299, 741, 1399, 799, 1119, 799, 1469, 909, 1249, 599, 2390, 2959, 699, 906, 766, 979, 692, 1049, 779, 840, 2999, 616, 1999, 1039, 799, 2316, 799, 599, 979, 959, 1299, 559, 1399, 699, 644, 1356, 3499, 1119, 599, 507, 1956, 5760, 1649, 616, 1079, 2499, 591, 1482, 1329, 1899, 539, 801, 674, 749, 699, 1469, 959, 1299, 764, 626, 591, 4899, 1299, 750, 479, 1299, 575, 809, 2499, 599, 757, 399, 1529, 2999, 3499, 249, 2299, 699, 899, 5499, 1799, 2590, 1247, 1649, 1999, 1469, 3499, 1469, 749, 2999, 1619, 1224, 1214, 699, 591, 2499, 1079, 1098, 799, 3299, 263, 1469, 374, 599, 6499, 731, 644, 699, 700, 1399, 1299, 629, 1259, 275, 509, 2236, 2499, 1699, 3140, 2124, 699, 649, 791, 4420, 539, 499, 1469, 4000, 959, 1399, 599, 599, 644, 559, 999, 1886, 499, 1949, 399, 1476, 539, 1007, 849, 674, 616, 749, 1178, 8396, 2399, 1539, 1299, 999, 719, 2999, 1259, 699, 1329, 3054, 349, 626, 899, 591, 2611, 584, 899, 2611, 799, 1399, 1399, 1469, 909, 4081, 399, 599, 1364, 1469, 1289, 699, 674, 599, 2316, 844, 2999, 630, 1299, 499, 8396, 1424, 959, 479, 7839, 731, 756, 749, 2849, 1399, 5389, 3325, 1469, 349, 749, 959, 749, 1439, 1329, 3770, 674, 1499, 626, 1169, 879, 2166, 990, 1299, 699, 2999, 599, 441, 849, 511, 2299, 224, 3112, 766, 699, 3429, 1249, 556, 1499, 799, 766, 1999, 1899, 559, 560, 659, 719, 719, 1724, 2386, 699, 674, 919, 899, 756, 630, 891, 766, 1299, 1149, 749, 757, 1469, 839, 584, 1199, 1539, 696, 979, 1749, 299, 1299, 699, 1084, 1277, 1299, 1329, 499, 1249, 959, 2999, 1264, 1499, 584, 1199, 909, 696, 661, 699, 959, 2895, 3181, 696, 1399, 6956, 584, 584, 689, 757, 799, 719, 591, 699, 599, 949, 892, 799, 689, 511, 499, 1559, 644, 891, 285, 584, 1679, 679, 1999, 936, 404, 799, 959, 1749, 750, 749, 986, 1264, 1469, 1399, 1469, 749, 949, 1399, 489, 719, 2316, 629, 1469, 1322, 2039, 1249, 1999, 999, 899, 1374, 699, 1199, 696, 749, 1749, 1469, 999, 871, 7756, 539, 1799, 1679, 759, 1499, 629, 799, 1750, 644, 1046, 1469, 699, 719, 899, 285, 399, 479, 1609, 7756, 499, 900, 824, 1356, 1999, 1895, 1999, 2364, 1299, 1999, 1999, 560, 589, 382, 1999, 990, 2799, 540, 759, 999, 1999, 699, 519, 1079, 404, 399, 899, 2399, 599, 894, 750, 1516, 1249, 1996, 616, 849, 264, 999, 629, 2399, 1497, 2998, 591, 584, 479, 459, 1424, 999, 731, 1329, 799, 626, 779, 1239, 599, 1319, 699, 3230, 959, 584, 1289, 836, 449, 591, 899, 679, 1469, 949, 558, 809, 2251, 4347, 696, 2396, 666, 909, 799, 839, 719, 749, 9349, 349, 1429, 1799, 649, 6499, 1119, 560, 1299, 1819, 959, 629, 1999, 4087, 2608, 696, 1199, 999, 1424, 629, 559, 576, 799, 1260, 2099, 832, 2274, 1049, 2659, 766, 879, 704, 1149, 879, 1249, 849, 1979, 1084, 1915, 3299, 849, 1999, 334, 1259, 649, 278, 699, 499, 849, 1924, 704, 749, 2249, 2699, 2749, 559, 1049, 799, 354, 999, 499, 1749, 879, 699, 1249, 524, 974, 399, 2799, 499, 599, 1759, 1599, 849, 749, 2995, 491, 449, 649, 649, 1923, 1999, 2469, 233, 349, 9749, 5200, 1649, 1757, 2599, 2799, 499, 849, 2024, 2799, 599, 749, 1259, 3999, 3199, 524, 2749, 549, 996, 577, 499, 1377, 1100, 899, 1189, 2999, 1799, 587, 599, 3999, 849, 999, 749, 399, 849, 1079, 4249, 849, 749, 399, 986, 749, 1754, 859, 1999, 3149, 849, 996, 1016, 5099, 1262, 899, 382, 899, 799, 3249, 499, 791, 449, 949, 2749, 1349, 2687, 1099, 2279, 449, 4249, 2699, 449, 1262, 1099, 704, 249, 2699, 3249, 449, 1209, 699, 2624, 4899, 1999, 759, 949, 1116, 749, 749, 699, 500, 681, 599, 559, 489, 1299, 699, 1899, 2399, 1096, 1539, 976, 674, 643, 1649, 901, 2799, 649, 791, 3249, 499, 699, 699, 1999, 2499, 3149, 1979, 2039, 577, 449, 1754, 879, 599, 799, 849, 989, 1249, 464, 489, 3399, 384, 949, 2749, 437, 1499, 1599, 949, 3499, 884, 1484, 1399, 879, 1599, 799, 879, 879, 849, 2708, 1095, 649, 2999, 1100, 1484, 2249, 1229, 419, 799, 799, 899, 524, 2199, 1274, 799, 704, 917, 704, 399, 699, 1359, 1299, 1712, 999, 5200, 524, 1460, 1814, 399, 699, 499, 995, 3249, 999, 645, 1919, 2144, 1537, 599, 499, 2499, 949, 194, 849, 799, 649, 2299, 1192, 749, 599, 899, 1739, 1149, 1249, 400, 4999, 1999, 3374, 1999, 1999, 449, 1499, 1099, 1195, 1999, 949, 1519, 2699, 1757, 1519, 649, 3999, 1819, 3199, 699, 551, 2599, 449, 499, 2399, 1223, 649, 1484, 704, 1879, 989, 524, 489, 271, 1155, 599, 629, 987, 1399, 494, 524, 519, 884, 1209, 949, 419, 699, 799, 400, 475, 400, 2449, 949, 500, 3899, 599, 1999, 1709, 1199, 419, 2499, 1002, 3824, 419, 1159, 874, 649, 899, 406, 494, 3249, 499, 3499, 500, 382, 499, 2036, 1049, 1949, 499, 1525, 3999, 524, 349, 1197, 449, 699, 491, 4674, 1299, 377, 499, 935, 1097, 974, 1609, 1979, 749, 3149, 649, 1189, 643, 299, 1299, 1757, 3380, 1884, 799, 879, 410, 519, 479, 899, 3575, 2599, 524, 1529, 399, 1119, 849, 3149, 2500, 2599, 4499, 749, 899, 935, 2659, 2599, 1249, 1584, 1197, 524, 899, 499, 614, 4499, 410, 449, 599, 449, 629, 1754, 2749, 496, 1199, 599, 1511, 1377, 859, 749, 449, 1044, 410, 349, 1197, 524, 749, 2799, 2159, 1048, 2599, 1439, 1345, 2399, 899, 599, 1499, 1359, 749, 699, 3899, 2399, 2399, 1299, 692, 3640, 201, 649, 1293, 674, 1609, 839, 1199, 956, 349, 220, 999, 849, 849, 499, 349, 1049, 799, 879, 1195, 749, 3249, 1749, 449, 1999, 1377, 1079, 464, 1223, 2995, 266, 1049, 1236, 599, 390, 4549, 749, 2799, 849, 755, 3899, 879, 1049, 704, 3299, 849, 799, 649, 749, 899, 255, 495, 899, 749, 749, 429, 2799, 2045, 311, 999, 239, 1399, 1399, 349, 2599, 1049, 599, 717, 649, 599, 587, 884, 399, 499, 1999, 1078, 979, 1011, 479, 1499, 874, 949, 399, 3499, 499, 369, 899, 632, 1223, 496, 3575, 1224, 2599, 559, 694, 499, 4549, 1039, 1377, 551, 1377, 1799, 983, 2099, 899, 914, 569, 464, 1084, 1999, 999, 1895, 1379, 2924, 614, 1299, 5499, 2144, 684, 2599, 815, 1754, 402, 379, 279, 399, 1979, 2799, 1199, 399, 1759, 2199, 489, 1274, 7999, 2079, 699, 749, 1199, 599, 1295, 1080, 1197, 223, 1124, 739, 1599, 1138, 4199, 815, 749, 1049, 2144, 899, 704, 1197, 999, 749, 400, 4749, 839, 699, 1959, 410, 799, 1979, 449, 399, 3574, 849, 749, 599, 1499, 654, 3749, 1377, 399, 879, 895, 2274, 313, 2599, 350, 1336, 6999, 4899, 1099, 1224, 924, 3999, 1371, 649, 1819, 599, 799, 1379, 3499, 721, 349, 2099, 2299, 499, 899, 959, 599, 1889, 1699, 399, 975, 449, 699, 799, 419, 899, 1682, 524, 749, 1599, 1154, 1299, 499, 3149, 2499, 1200, 749, 952, 649, 884, 2995, 299, 1296, 999, 382, 1949, 799, 849, 759, 1299, 3199, 8999, 1132, 849, 524, 749, 779, 849, 1377, 975, 749, 949, 772, 4999, 4999, 349, 884, 479, 499, 659, 499, 1299, 1039, 699, 849, 1677, 755, 649, 879, 749, 2099, 2399, 1299, 699, 559, 499, 599, 749, 338, 479, 153, 2199, 649, 499, 1377, 2579, 645, 1160, 2562, 699, 1224, 1249, 699, 849, 699, 499, 5399, 1199, 1249, 524, 779, 369, 349, 919, 799, 1299, 500, 2399, 849, 649, 491, 849, 999, 749, 5599, 1649, 577, 1700, 2499, 2299, 2599, 499, 519, 2999, 749, 400, 1537, 1949, 699, 1236, 599, 799, 849, 3499, 1236, 4549, 3149, 599, 655, 1377, 1249, 524, 704, 1599, 879, 849, 1695, 899, 671, 422, 1319, 531, 1609, 3249, 1757, 815, 1427, 2399, 930, 297, 1197, 1816, 499, 2399, 2995, 949, 799, 849, 799, 449, 449, 1043, 2559, 491, 2924, 1319, 1049, 1299, 1147, 354, 949, 587, 974, 1599, 1474, 1399, 672, 749, 849, 1099, 989, 2599, 449, 549, 3899, 708, 449, 1999, 1199, 649, 499, 2274, 749, 879, 694, 2249, 759, 699, 749, 649, 1949, 400, 944, 699, 499, 549, 449, 1499, 2924, 1439, 899, 3749, 1999, 949, 411, 1754, 349, 466, 879, 749, 3599, 3249, 2599, 649, 749, 694, 464, 949, 2274, 524, 2599, 499, 499, 599, 1679, 919, 2274, 499, 1402, 1199, 1189, 295, 8999, 949, 1949, 1999, 499, 349, 879, 699, 3999, 349, 1359, 410, 1529, 699, 500, 1039, 2199, 1592, 5249, 1539, 655, 699, 649, 879, 749, 1034, 699, 963, 2999, 874, 879, 1165, 1359, 1478, 734, 799, 1099, 699, 569, 815, 719, 861, 1746, 1474, 499, 699, 1399, 4199, 949, 749, 1259, 478, 849, 1099, 2149, 2749, 1299, 1039, 449, 1677, 3249, 524, 1499, 681, 524, 739, 879, 390, 399, 1999, 3199, 1749, 2999, 884, 863, 369, 759, 699, 799, 559, 939, 679, 1999, 1043, 332, 899, 3999, 2999, 2079, 599, 5999, 615, 3299, 750, 1649, 1249, 699, 750, 3499, 1539, 1199, 1529, 5399, 2759, 5999, 559, 877, 879, 1799, 1575, 2314, 804, 2999, 599, 1799, 499, 2490, 749, 750, 699, 2999, 6999, 4599, 750, 900, 649, 1999, 2799, 4799, 1299, 1677, 750, 2249, 3499, 719, 3149, 780, 999, 1399, 3599, 3299, 3999, 745, 750, 659, 593, 584, 599, 759, 1924, 999, 499, 1299, 5499, 3359, 1399, 1979, 484, 1620, 1649, 699, 3075, 4599, 1499, 777, 750, 1124, 559, 649, 599, 499, 1699, 857, 1979, 920, 1192, 2199, 1990, 599, 940, 1299, 2339, 1649, 750, 1899, 499, 5599, 3299, 2990, 3999, 2799, 1030, 699, 750, 4800, 5999, 699, 1399, 2799, 1399, 780, 1899, 2089, 699, 2205, 3499, 919, 499, 3574, 649, 2999, 494, 2999, 749, 1299, 2775, 1014, 7199, 2499, 1099, 4799, 1979, 7799, 1374, 2974, 6999, 584, 1499, 7799, 3999, 574, 1199, 1559, 5999, 1299, 1199, 699, 480, 2749, 2759, 1999, 375, 699, 6750, 3475, 750, 2274, 1399, 749, 354, 367, 489, 1649, 750, 499, 1194, 899, 750, 920, 750, 5999, 999, 3999, 699, 899, 494, 871, 750, 2099, 720, 1999, 780, 920, 2016, 719, 1119, 499, 1061, 7799, 699, 4549, 1397, 1399, 1014, 1559, 2024, 1999, 1199, 3999, 699, 750, 2759, 1299, 879, 1979, 2205, 1424, 1099, 1649, 1014, 1199, 3850, 1350, 2399, 1799, 750, 2999, 2399, 659, 1679, 1299, 940, 1393, 2399, 2026, 764, 900, 750, 5499, 3464, 615, 2249, 1799, 382, 2159, 899, 3359, 968, 3599, 919, 1349, 3359, 1999, 2799, 2690, 1375, 1649, 1922, 631, 3850, 299, 919, 920, 2799, 1416, 719, 756, 780, 780, 699, 2749, 719, 599, 4499, 1399, 828, 2999, 5999, 2759, 822, 1399, 920, 780, 780, 759, 1999, 780, 2016, 4799, 499, 599, 719, 2799, 2159, 759, 1399, 649, 4799, 719, 5800, 999, 1499, 1194, 940, 920, 1799, 2399, 1999, 799, 1620, 1799, 1399, 602, 920, 699, 3599, 499, 639, 762, 750, 880, 539, 2024, 1799, 899, 699, 1899, 1199, 2399, 5849, 1687, 2799, 3959, 750, 1199, 1299, 3599, 1559, 1819, 2529, 1299, 1799, 1259, 944, 959, 940, 2249, 874, 699, 482, 2759, 900, 1194, 599, 1399, 1299, 839, 2399, 780, 4499, 1019, 8999, 750, 3499, 599, 604, 2999, 2579, 4799, 499, 599, 899, 649, 1072, 3359, 999, 1049, 3849, 3999, 5999, 3359, 1499, 2799, 3399, 4799, 4199, 471, 799, 503, 2759, 1299, 599, 4599, 3499, 739, 2799, 920, 900, 999, 1099, 1979, 1559, 1757, 1299, 6999, 2999, 1979, 1119, 5399, 639, 9100, 2799, 920, 854, 2799, 599, 2024, 749, 2999, 449, 1033, 3299, 780, 780, 1049, 1559, 849, 1349, 599, 1979, 499, 629, 874, 919, 979, 919, 699, 3149, 599, 900, 871, 874, 959, 920, 750, 719, 1799, 3599, 4949, 940, 3359, 920, 822, 2999, 1199, 1299, 4949, 2399, 5715, 649, 2974, 1999, 1470, 590, 1679, 449, 899, 629, 815, 2299, 2999, 719, 1099, 2999, 3375, 2799, 1199, 900, 1044, 7199, 7149, 750, 780, 7799, 4410, 764, 2999, 649, 3599, 979, 482, 2529, 1559, 539, 615, 519, 1949, 2579, 1539, 1624, 1470, 2399, 940, 759, 1169, 750, 3359, 2749, 4799, 750, 3249, 1899, 4799, 866, 1199, 1715, 1516, 749, 2999, 1350, 1874, 799, 7799, 3599, 804, 2921, 377, 7799, 1977, 9100, 894, 1299, 2999, 750, 649, 750, 1169, 659, 1757, 4799, 1830, 5999, 1917, 1799, 2299, 1599, 5999, 1299, 899, 1999, 499, 599, 1224, 599, 1388, 750, 880, 7149, 1679, 4799, 920, 1799, 2999, 5849, 920, 695, 1395, 549, 770, 750, 979, 1014, 1999, 797, 750, 499, 2999, 2000, 6599, 449, 278, 2924, 759, 799, 750, 1999, 1924, 374, 699, 799, 3359, 657, 1099, 3499, 940, 3480, 749, 999, 2499, 2799, 5999, 449, 750, 1299, 3499, 2759, 949, 599, 6299, 2799, 750, 920, 1199, 1299, 2199, 1479, 2799, 412, 1814, 1679, 1979, 2399, 1299, 2799, 1699, 750, 1999, 750, 750, 659, 1999, 881, 1649, 327, 920, 780, 759, 1715, 1299, 2314, 3599, 940, 999, 2299, 2016, 750, 799, 920, 649, 569, 1299, 1990, 602, 8950, 799], \"xaxis\": \"x\", \"yaxis\": \"y\"}],\n",
              "                        {\"barmode\": \"relative\", \"legend\": {\"tracegroupgap\": 0}, \"margin\": {\"t\": 60}, \"plot_bgcolor\": \"#fff\", \"template\": {\"data\": {\"bar\": [{\"error_x\": {\"color\": \"#2a3f5f\"}, \"error_y\": {\"color\": \"#2a3f5f\"}, \"marker\": {\"line\": {\"color\": \"#E5ECF6\", \"width\": 0.5}}, \"type\": \"bar\"}], \"barpolar\": [{\"marker\": {\"line\": {\"color\": \"#E5ECF6\", \"width\": 0.5}}, \"type\": \"barpolar\"}], \"carpet\": [{\"aaxis\": {\"endlinecolor\": \"#2a3f5f\", \"gridcolor\": \"white\", \"linecolor\": \"white\", \"minorgridcolor\": \"white\", \"startlinecolor\": \"#2a3f5f\"}, \"baxis\": {\"endlinecolor\": \"#2a3f5f\", \"gridcolor\": \"white\", \"linecolor\": \"white\", \"minorgridcolor\": \"white\", \"startlinecolor\": \"#2a3f5f\"}, \"type\": \"carpet\"}], \"choropleth\": [{\"colorbar\": {\"outlinewidth\": 0, \"ticks\": \"\"}, \"type\": \"choropleth\"}], \"contour\": [{\"colorbar\": {\"outlinewidth\": 0, \"ticks\": \"\"}, \"colorscale\": [[0.0, \"#0d0887\"], [0.1111111111111111, \"#46039f\"], [0.2222222222222222, \"#7201a8\"], [0.3333333333333333, \"#9c179e\"], [0.4444444444444444, \"#bd3786\"], [0.5555555555555556, \"#d8576b\"], [0.6666666666666666, \"#ed7953\"], [0.7777777777777778, \"#fb9f3a\"], [0.8888888888888888, \"#fdca26\"], [1.0, \"#f0f921\"]], \"type\": \"contour\"}], \"contourcarpet\": [{\"colorbar\": {\"outlinewidth\": 0, \"ticks\": \"\"}, \"type\": \"contourcarpet\"}], \"heatmap\": [{\"colorbar\": {\"outlinewidth\": 0, \"ticks\": \"\"}, \"colorscale\": [[0.0, \"#0d0887\"], [0.1111111111111111, \"#46039f\"], [0.2222222222222222, \"#7201a8\"], [0.3333333333333333, \"#9c179e\"], [0.4444444444444444, \"#bd3786\"], [0.5555555555555556, \"#d8576b\"], [0.6666666666666666, \"#ed7953\"], [0.7777777777777778, \"#fb9f3a\"], [0.8888888888888888, \"#fdca26\"], [1.0, \"#f0f921\"]], \"type\": \"heatmap\"}], \"heatmapgl\": [{\"colorbar\": {\"outlinewidth\": 0, \"ticks\": \"\"}, \"colorscale\": [[0.0, \"#0d0887\"], [0.1111111111111111, \"#46039f\"], [0.2222222222222222, \"#7201a8\"], [0.3333333333333333, \"#9c179e\"], [0.4444444444444444, \"#bd3786\"], [0.5555555555555556, \"#d8576b\"], [0.6666666666666666, \"#ed7953\"], [0.7777777777777778, \"#fb9f3a\"], [0.8888888888888888, \"#fdca26\"], [1.0, \"#f0f921\"]], \"type\": \"heatmapgl\"}], \"histogram\": [{\"marker\": {\"colorbar\": {\"outlinewidth\": 0, \"ticks\": \"\"}}, \"type\": \"histogram\"}], \"histogram2d\": [{\"colorbar\": {\"outlinewidth\": 0, \"ticks\": \"\"}, \"colorscale\": [[0.0, \"#0d0887\"], [0.1111111111111111, \"#46039f\"], [0.2222222222222222, \"#7201a8\"], [0.3333333333333333, \"#9c179e\"], [0.4444444444444444, \"#bd3786\"], [0.5555555555555556, \"#d8576b\"], [0.6666666666666666, \"#ed7953\"], [0.7777777777777778, \"#fb9f3a\"], [0.8888888888888888, \"#fdca26\"], [1.0, \"#f0f921\"]], \"type\": \"histogram2d\"}], \"histogram2dcontour\": [{\"colorbar\": {\"outlinewidth\": 0, \"ticks\": \"\"}, \"colorscale\": [[0.0, \"#0d0887\"], [0.1111111111111111, \"#46039f\"], [0.2222222222222222, \"#7201a8\"], [0.3333333333333333, \"#9c179e\"], [0.4444444444444444, \"#bd3786\"], [0.5555555555555556, \"#d8576b\"], [0.6666666666666666, \"#ed7953\"], [0.7777777777777778, \"#fb9f3a\"], [0.8888888888888888, \"#fdca26\"], [1.0, \"#f0f921\"]], \"type\": \"histogram2dcontour\"}], \"mesh3d\": [{\"colorbar\": {\"outlinewidth\": 0, \"ticks\": \"\"}, \"type\": \"mesh3d\"}], \"parcoords\": [{\"line\": {\"colorbar\": {\"outlinewidth\": 0, \"ticks\": \"\"}}, \"type\": \"parcoords\"}], \"pie\": [{\"automargin\": true, \"type\": \"pie\"}], \"scatter\": [{\"marker\": {\"colorbar\": {\"outlinewidth\": 0, \"ticks\": \"\"}}, \"type\": \"scatter\"}], \"scatter3d\": [{\"line\": {\"colorbar\": {\"outlinewidth\": 0, \"ticks\": \"\"}}, \"marker\": {\"colorbar\": {\"outlinewidth\": 0, \"ticks\": \"\"}}, \"type\": \"scatter3d\"}], \"scattercarpet\": [{\"marker\": {\"colorbar\": {\"outlinewidth\": 0, \"ticks\": \"\"}}, \"type\": \"scattercarpet\"}], \"scattergeo\": [{\"marker\": {\"colorbar\": {\"outlinewidth\": 0, \"ticks\": \"\"}}, \"type\": \"scattergeo\"}], \"scattergl\": [{\"marker\": {\"colorbar\": {\"outlinewidth\": 0, \"ticks\": \"\"}}, \"type\": \"scattergl\"}], \"scattermapbox\": [{\"marker\": {\"colorbar\": {\"outlinewidth\": 0, \"ticks\": \"\"}}, \"type\": \"scattermapbox\"}], \"scatterpolar\": [{\"marker\": {\"colorbar\": {\"outlinewidth\": 0, \"ticks\": \"\"}}, \"type\": \"scatterpolar\"}], \"scatterpolargl\": [{\"marker\": {\"colorbar\": {\"outlinewidth\": 0, \"ticks\": \"\"}}, \"type\": \"scatterpolargl\"}], \"scatterternary\": [{\"marker\": {\"colorbar\": {\"outlinewidth\": 0, \"ticks\": \"\"}}, \"type\": \"scatterternary\"}], \"surface\": [{\"colorbar\": {\"outlinewidth\": 0, \"ticks\": \"\"}, \"colorscale\": [[0.0, \"#0d0887\"], [0.1111111111111111, \"#46039f\"], [0.2222222222222222, \"#7201a8\"], [0.3333333333333333, \"#9c179e\"], [0.4444444444444444, \"#bd3786\"], [0.5555555555555556, \"#d8576b\"], [0.6666666666666666, \"#ed7953\"], [0.7777777777777778, \"#fb9f3a\"], [0.8888888888888888, \"#fdca26\"], [1.0, \"#f0f921\"]], \"type\": \"surface\"}], \"table\": [{\"cells\": {\"fill\": {\"color\": \"#EBF0F8\"}, \"line\": {\"color\": \"white\"}}, \"header\": {\"fill\": {\"color\": \"#C8D4E3\"}, \"line\": {\"color\": \"white\"}}, \"type\": \"table\"}]}, \"layout\": {\"annotationdefaults\": {\"arrowcolor\": \"#2a3f5f\", \"arrowhead\": 0, \"arrowwidth\": 1}, \"coloraxis\": {\"colorbar\": {\"outlinewidth\": 0, \"ticks\": \"\"}}, \"colorscale\": {\"diverging\": [[0, \"#8e0152\"], [0.1, \"#c51b7d\"], [0.2, \"#de77ae\"], [0.3, \"#f1b6da\"], [0.4, \"#fde0ef\"], [0.5, \"#f7f7f7\"], [0.6, \"#e6f5d0\"], [0.7, \"#b8e186\"], [0.8, \"#7fbc41\"], [0.9, \"#4d9221\"], [1, \"#276419\"]], \"sequential\": [[0.0, \"#0d0887\"], [0.1111111111111111, \"#46039f\"], [0.2222222222222222, \"#7201a8\"], [0.3333333333333333, \"#9c179e\"], [0.4444444444444444, \"#bd3786\"], [0.5555555555555556, \"#d8576b\"], [0.6666666666666666, \"#ed7953\"], [0.7777777777777778, \"#fb9f3a\"], [0.8888888888888888, \"#fdca26\"], [1.0, \"#f0f921\"]], \"sequentialminus\": [[0.0, \"#0d0887\"], [0.1111111111111111, \"#46039f\"], [0.2222222222222222, \"#7201a8\"], [0.3333333333333333, \"#9c179e\"], [0.4444444444444444, \"#bd3786\"], [0.5555555555555556, \"#d8576b\"], [0.6666666666666666, \"#ed7953\"], [0.7777777777777778, \"#fb9f3a\"], [0.8888888888888888, \"#fdca26\"], [1.0, \"#f0f921\"]]}, \"colorway\": [\"#636efa\", \"#EF553B\", \"#00cc96\", \"#ab63fa\", \"#FFA15A\", \"#19d3f3\", \"#FF6692\", \"#B6E880\", \"#FF97FF\", \"#FECB52\"], \"font\": {\"color\": \"#2a3f5f\"}, \"geo\": {\"bgcolor\": \"white\", \"lakecolor\": \"white\", \"landcolor\": \"#E5ECF6\", \"showlakes\": true, \"showland\": true, \"subunitcolor\": \"white\"}, \"hoverlabel\": {\"align\": \"left\"}, \"hovermode\": \"closest\", \"mapbox\": {\"style\": \"light\"}, \"paper_bgcolor\": \"white\", \"plot_bgcolor\": \"#E5ECF6\", \"polar\": {\"angularaxis\": {\"gridcolor\": \"white\", \"linecolor\": \"white\", \"ticks\": \"\"}, \"bgcolor\": \"#E5ECF6\", \"radialaxis\": {\"gridcolor\": \"white\", \"linecolor\": \"white\", \"ticks\": \"\"}}, \"scene\": {\"xaxis\": {\"backgroundcolor\": \"#E5ECF6\", \"gridcolor\": \"white\", \"gridwidth\": 2, \"linecolor\": \"white\", \"showbackground\": true, \"ticks\": \"\", \"zerolinecolor\": \"white\"}, \"yaxis\": {\"backgroundcolor\": \"#E5ECF6\", \"gridcolor\": \"white\", \"gridwidth\": 2, \"linecolor\": \"white\", \"showbackground\": true, \"ticks\": \"\", \"zerolinecolor\": \"white\"}, \"zaxis\": {\"backgroundcolor\": \"#E5ECF6\", \"gridcolor\": \"white\", \"gridwidth\": 2, \"linecolor\": \"white\", \"showbackground\": true, \"ticks\": \"\", \"zerolinecolor\": \"white\"}}, \"shapedefaults\": {\"line\": {\"color\": \"#2a3f5f\"}}, \"ternary\": {\"aaxis\": {\"gridcolor\": \"white\", \"linecolor\": \"white\", \"ticks\": \"\"}, \"baxis\": {\"gridcolor\": \"white\", \"linecolor\": \"white\", \"ticks\": \"\"}, \"bgcolor\": \"#E5ECF6\", \"caxis\": {\"gridcolor\": \"white\", \"linecolor\": \"white\", \"ticks\": \"\"}}, \"title\": {\"x\": 0.05}, \"xaxis\": {\"automargin\": true, \"gridcolor\": \"white\", \"linecolor\": \"white\", \"ticks\": \"\", \"title\": {\"standoff\": 15}, \"zerolinecolor\": \"white\", \"zerolinewidth\": 2}, \"yaxis\": {\"automargin\": true, \"gridcolor\": \"white\", \"linecolor\": \"white\", \"ticks\": \"\", \"title\": {\"standoff\": 15}, \"zerolinecolor\": \"white\", \"zerolinewidth\": 2}}}, \"title\": {\"text\": \"Price Distribution\"}, \"xaxis\": {\"anchor\": \"y\", \"domain\": [0.0, 1.0], \"title\": {\"text\": \"Counts\"}}, \"yaxis\": {\"anchor\": \"x\", \"domain\": [0.0, 1.0], \"title\": {\"text\": \"\"}}},\n",
              "                        {\"responsive\": true}\n",
              "                    ).then(function(){\n",
              "                            \n",
              "var gd = document.getElementById('f5e93908-44e7-4db5-bdd9-5b210750f61f');\n",
              "var x = new MutationObserver(function (mutations, observer) {{\n",
              "        var display = window.getComputedStyle(gd).display;\n",
              "        if (!display || display === 'none') {{\n",
              "            console.log([gd, 'removed!']);\n",
              "            Plotly.purge(gd);\n",
              "            observer.disconnect();\n",
              "        }}\n",
              "}});\n",
              "\n",
              "// Listen for the removal of the full notebook cells\n",
              "var notebookContainer = gd.closest('#notebook-container');\n",
              "if (notebookContainer) {{\n",
              "    x.observe(notebookContainer, {childList: true});\n",
              "}}\n",
              "\n",
              "// Listen for the clearing of the current output cell\n",
              "var outputEl = gd.closest('.output');\n",
              "if (outputEl) {{\n",
              "    x.observe(outputEl, {childList: true});\n",
              "}}\n",
              "\n",
              "                        })\n",
              "                };\n",
              "                \n",
              "            </script>\n",
              "        </div>\n",
              "</body>\n",
              "</html>"
            ]
          },
          "metadata": {}
        }
      ]
    },
    {
      "cell_type": "code",
      "metadata": {
        "id": "3G9Bf93SQ3ri"
      },
      "source": [
        "df['Gender_Code'] = pd.factorize(df['Gender'])[0]\n",
        "df['PrimaryColor_Code'] = pd.factorize(df['PrimaryColor'])[0]"
      ],
      "execution_count": null,
      "outputs": []
    },
    {
      "cell_type": "code",
      "metadata": {
        "colab": {
          "base_uri": "https://localhost:8080/",
          "height": 206
        },
        "id": "HhRm-f7dREm9",
        "outputId": "488c15be-5779-4773-cfc0-7ca6086eb010"
      },
      "source": [
        "df.head()"
      ],
      "execution_count": null,
      "outputs": [
        {
          "output_type": "execute_result",
          "data": {
            "text/html": [
              "<div>\n",
              "<style scoped>\n",
              "    .dataframe tbody tr th:only-of-type {\n",
              "        vertical-align: middle;\n",
              "    }\n",
              "\n",
              "    .dataframe tbody tr th {\n",
              "        vertical-align: top;\n",
              "    }\n",
              "\n",
              "    .dataframe thead th {\n",
              "        text-align: right;\n",
              "    }\n",
              "</style>\n",
              "<table border=\"1\" class=\"dataframe\">\n",
              "  <thead>\n",
              "    <tr style=\"text-align: right;\">\n",
              "      <th></th>\n",
              "      <th>ProductID</th>\n",
              "      <th>ProductName</th>\n",
              "      <th>ProductBrand</th>\n",
              "      <th>Gender</th>\n",
              "      <th>Price (INR)</th>\n",
              "      <th>NumImages</th>\n",
              "      <th>Description</th>\n",
              "      <th>PrimaryColor</th>\n",
              "      <th>Gender_Code</th>\n",
              "      <th>PrimaryColor_Code</th>\n",
              "    </tr>\n",
              "  </thead>\n",
              "  <tbody>\n",
              "    <tr>\n",
              "      <th>0</th>\n",
              "      <td>10017413</td>\n",
              "      <td>DKNY Unisex Black &amp; Grey Printed Medium Trolle...</td>\n",
              "      <td>DKNY</td>\n",
              "      <td>Unisex</td>\n",
              "      <td>11745</td>\n",
              "      <td>7</td>\n",
              "      <td>Black and grey printed medium trolley bag, sec...</td>\n",
              "      <td>Black</td>\n",
              "      <td>0</td>\n",
              "      <td>0</td>\n",
              "    </tr>\n",
              "    <tr>\n",
              "      <th>1</th>\n",
              "      <td>10016283</td>\n",
              "      <td>EthnoVogue Women Beige &amp; Grey Made to Measure ...</td>\n",
              "      <td>EthnoVogue</td>\n",
              "      <td>Women</td>\n",
              "      <td>5810</td>\n",
              "      <td>7</td>\n",
              "      <td>Beige &amp; Grey made to measure kurta with churid...</td>\n",
              "      <td>Beige</td>\n",
              "      <td>1</td>\n",
              "      <td>1</td>\n",
              "    </tr>\n",
              "    <tr>\n",
              "      <th>2</th>\n",
              "      <td>10009781</td>\n",
              "      <td>SPYKAR Women Pink Alexa Super Skinny Fit High-...</td>\n",
              "      <td>SPYKAR</td>\n",
              "      <td>Women</td>\n",
              "      <td>899</td>\n",
              "      <td>7</td>\n",
              "      <td>Pink coloured wash 5-pocket high-rise cropped ...</td>\n",
              "      <td>Pink</td>\n",
              "      <td>1</td>\n",
              "      <td>2</td>\n",
              "    </tr>\n",
              "    <tr>\n",
              "      <th>3</th>\n",
              "      <td>10015921</td>\n",
              "      <td>Raymond Men Blue Self-Design Single-Breasted B...</td>\n",
              "      <td>Raymond</td>\n",
              "      <td>Men</td>\n",
              "      <td>5599</td>\n",
              "      <td>5</td>\n",
              "      <td>Blue self-design bandhgala suitBlue self-desig...</td>\n",
              "      <td>Blue</td>\n",
              "      <td>2</td>\n",
              "      <td>3</td>\n",
              "    </tr>\n",
              "    <tr>\n",
              "      <th>4</th>\n",
              "      <td>10017833</td>\n",
              "      <td>Parx Men Brown &amp; Off-White Slim Fit Printed Ca...</td>\n",
              "      <td>Parx</td>\n",
              "      <td>Men</td>\n",
              "      <td>759</td>\n",
              "      <td>5</td>\n",
              "      <td>Brown and off-white printed casual shirt, has ...</td>\n",
              "      <td>White</td>\n",
              "      <td>2</td>\n",
              "      <td>4</td>\n",
              "    </tr>\n",
              "  </tbody>\n",
              "</table>\n",
              "</div>"
            ],
            "text/plain": [
              "   ProductID  ... PrimaryColor_Code\n",
              "0   10017413  ...                 0\n",
              "1   10016283  ...                 1\n",
              "2   10009781  ...                 2\n",
              "3   10015921  ...                 3\n",
              "4   10017833  ...                 4\n",
              "\n",
              "[5 rows x 10 columns]"
            ]
          },
          "metadata": {},
          "execution_count": 78
        }
      ]
    },
    {
      "cell_type": "code",
      "metadata": {
        "colab": {
          "base_uri": "https://localhost:8080/"
        },
        "id": "3wnwxmX2SHNO",
        "outputId": "4198c294-ca21-4a54-859d-86c672b64701"
      },
      "source": [
        "df['PrimaryColor_Code'].nunique()\n",
        "df['PrimaryColor_Code'].unique()"
      ],
      "execution_count": null,
      "outputs": [
        {
          "output_type": "execute_result",
          "data": {
            "text/plain": [
              "array([ 0,  1,  2,  3,  4,  5,  6,  7,  8,  9, 10, 11, 12, 13, 14, 15, 16,\n",
              "       17, 18, 19, 20, 21, 22, 23, 24, 25, 26, 27])"
            ]
          },
          "metadata": {},
          "execution_count": 79
        }
      ]
    },
    {
      "cell_type": "code",
      "metadata": {
        "colab": {
          "base_uri": "https://localhost:8080/"
        },
        "id": "UqDJFQZESQH5",
        "outputId": "2739e32c-936e-42c0-9bb4-173ecc2ac1d5"
      },
      "source": [
        "df['Gender_Code'].nunique()\n",
        "df['Gender_Code'].unique()"
      ],
      "execution_count": null,
      "outputs": [
        {
          "output_type": "execute_result",
          "data": {
            "text/plain": [
              "array([0, 1, 2, 3, 4, 5])"
            ]
          },
          "metadata": {},
          "execution_count": 80
        }
      ]
    }
  ]
}